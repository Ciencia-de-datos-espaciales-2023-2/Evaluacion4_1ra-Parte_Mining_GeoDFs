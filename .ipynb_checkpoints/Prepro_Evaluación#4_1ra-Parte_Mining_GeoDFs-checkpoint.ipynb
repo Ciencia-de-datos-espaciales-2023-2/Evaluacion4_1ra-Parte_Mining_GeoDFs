{
 "cells": [
  {
   "cell_type": "markdown",
   "id": "ec4a2552",
   "metadata": {},
   "source": [
    "# Preprocesamiento de datos\n",
    "\n",
    "## Ejercicios: Parte I\n",
    "\n",
    "<div class=\"alert-warning\">\n",
    "    \n",
    "Indicaciones: Los ejercicios 1, 2, 3 y 4 deben leer su data de links en Github y el código y los resultados deben ser publicados en páginas en Github.\n",
    "\n",
    "</div>"
   ]
  },
  {
   "cell_type": "markdown",
   "id": "d4226891",
   "metadata": {},
   "source": [
    "## Ejercicio 1\n",
    "\n",
    "<div class=\"alert-success\">\n",
    "    \n",
    "1. Use two maps of points.\n",
    "\n",
    "2. Compute the distance matrix for both maps.\n",
    "\n",
    "3. Select one row of the distance matrix, and plot the two points with the minimal distance on top of the country of your choosing. (distancia entre punto a punto)\n",
    "</div>"
   ]
  },
  {
   "cell_type": "code",
   "execution_count": 74,
   "id": "9c793ae3",
   "metadata": {},
   "outputs": [],
   "source": [
    "import pandas as pd\n",
    "import geopandas as gpd\n",
    "import os\n",
    "\n",
    "PowerPlants = pd.read_csv(\"https://github.com/Ciencia-de-datos-espaciales-2023-2/Evaluacion4_1ra-Parte_Mining_GeoDFs/raw/main/data/global_power_plant_database.csv\", dtype={'other_fuel3': 'object'})\n",
    "\n",
    "China_PowerPlants = PowerPlants[PowerPlants[\"country\"]==\"CHN\"]\n",
    "China_PowerPlants = China_PowerPlants.loc[:,[\"name\",\"gppd_idnr\",\"capacity_mw\",\"latitude\",\"longitude\",\"primary_fuel\"]]\n",
    "China_PowerPlants.reset_index(drop=True, inplace=True)\n",
    "\n",
    "#Dataframe a GeoDataframe:\n",
    "China_PowerPlants_gpd = gpd.GeoDataFrame(data=China_PowerPlants.copy(),\n",
    "                                        geometry=gpd.points_from_xy(x=China_PowerPlants.longitude,\n",
    "                                        y=China_PowerPlants.latitude),\n",
    "                                        crs=4326)\n",
    "\n",
    "#Cambiando los CRSs por unos proyectados y que coincidan con los de China3415:\n",
    "China3415_PowerPlants = China_PowerPlants_gpd.to_crs(3415)\n",
    "\n",
    "#Mapas de puntos: Plantas de energía solar y eólica\n",
    "China3415_SolarPowerPlants = China3415_PowerPlants[China3415_PowerPlants.primary_fuel==\"Solar\"]\n",
    "China3415_SolarPowerPlants = China3415_SolarPowerPlants.rename(columns={\"name\":\"SolarPowerPlant_Name\"})\n",
    "\n",
    "China3415_WindPowerPlants = China3415_PowerPlants[China3415_PowerPlants.primary_fuel==\"Wind\"]\n",
    "China3415_WindPowerPlants = China3415_WindPowerPlants.rename(columns={\"name\":\"WindPowerPlant_Name\"})\n",
    "\n",
    "# Geopackage con los 2 mapas de puntos:\n",
    "China3415_SolarPowerPlants.to_file(os.path.join(\"maps\",\"China3415_PowerPlants\",\"China3415_PowerPlants.gpkg\"), layer='Solar', driver=\"GPKG\",index=\"\")\n",
    "China3415_WindPowerPlants.to_file(os.path.join(\"maps\",\"China3415_PowerPlants\",\"China3415_PowerPlants.gpkg\"), layer='Wind', driver=\"GPKG\",index=\"\")"
   ]
  },
  {
   "cell_type": "markdown",
   "id": "456ed80b",
   "metadata": {},
   "source": [
    "## Ejercicio 2\n",
    "\n",
    "<div class=\"alert-success\">\n",
    "    \n",
    "1. Use a map of points and a map of lines.\n",
    "\n",
    "2. Compute the distance matrix for both maps.\n",
    "\n",
    "3. Select one line of the distance matrix, and plot the closests and the farthest point to that line. (Se puede seleccionar un río o un sistema y calcular el punto más cercano o lejano a la línea. Si se escoge un punto, se calcula la línea más cercana y lejana)\n",
    "    \n",
    "    \n",
    "</div>"
   ]
  },
  {
   "cell_type": "markdown",
   "id": "563274a9",
   "metadata": {},
   "source": [
    "Ríos principales en China:\n",
    "Fuente: [Major Rivers in the World](https://datacatalog.worldbank.org/search/dataset/0042032/Major-Rivers-of-the-World)"
   ]
  },
  {
   "cell_type": "code",
   "execution_count": 75,
   "id": "fa873f91",
   "metadata": {},
   "outputs": [
    {
     "ename": "HTTPError",
     "evalue": "HTTP Error 404: Not Found",
     "output_type": "error",
     "traceback": [
      "\u001b[1;31m---------------------------------------------------------------------------\u001b[0m",
      "\u001b[1;31mHTTPError\u001b[0m                                 Traceback (most recent call last)",
      "Cell \u001b[1;32mIn[75], line 2\u001b[0m\n\u001b[0;32m      1\u001b[0m MajorRiverslink \u001b[38;5;241m=\u001b[39m \u001b[38;5;124m\"\u001b[39m\u001b[38;5;124mhttps://github.com/Ciencia-de-datos-espaciales-2023-2/Evaluacion4_1ra-Parte_Mining_GeoDFs/raw/main/maps/Major_rivers/MajorRivers.shp\u001b[39m\u001b[38;5;124m\"\u001b[39m\n\u001b[1;32m----> 2\u001b[0m MajorRivers \u001b[38;5;241m=\u001b[39m gpd\u001b[38;5;241m.\u001b[39mread_file(MajorRiverslink)\n\u001b[0;32m      3\u001b[0m MajorRivers3415 \u001b[38;5;241m=\u001b[39m MajorRivers\u001b[38;5;241m.\u001b[39mto_crs(\u001b[38;5;241m3415\u001b[39m)\n\u001b[0;32m      5\u001b[0m China3415_MajorRivers \u001b[38;5;241m=\u001b[39m gpd\u001b[38;5;241m.\u001b[39mclip(gdf \u001b[38;5;241m=\u001b[39m MajorRivers3415, mask \u001b[38;5;241m=\u001b[39m China3415)\n",
      "File \u001b[1;32mD:\\anaconda3\\envs\\Ciencia_De_Datos_Espaciales\\Lib\\site-packages\\geopandas\\io\\file.py:281\u001b[0m, in \u001b[0;36m_read_file\u001b[1;34m(filename, bbox, mask, rows, engine, **kwargs)\u001b[0m\n\u001b[0;32m    275\u001b[0m from_bytes \u001b[38;5;241m=\u001b[39m \u001b[38;5;28;01mFalse\u001b[39;00m\n\u001b[0;32m    276\u001b[0m \u001b[38;5;28;01mif\u001b[39;00m _is_url(filename):\n\u001b[0;32m    277\u001b[0m     \u001b[38;5;66;03m# if it is a url that supports random access -> pass through to\u001b[39;00m\n\u001b[0;32m    278\u001b[0m     \u001b[38;5;66;03m# pyogrio/fiona as is (to support downloading only part of the file)\u001b[39;00m\n\u001b[0;32m    279\u001b[0m     \u001b[38;5;66;03m# otherwise still download manually because pyogrio/fiona don't support\u001b[39;00m\n\u001b[0;32m    280\u001b[0m     \u001b[38;5;66;03m# all types of urls (https://github.com/geopandas/geopandas/issues/2908)\u001b[39;00m\n\u001b[1;32m--> 281\u001b[0m     \u001b[38;5;28;01mwith\u001b[39;00m urllib\u001b[38;5;241m.\u001b[39mrequest\u001b[38;5;241m.\u001b[39murlopen(filename) \u001b[38;5;28;01mas\u001b[39;00m response:\n\u001b[0;32m    282\u001b[0m         \u001b[38;5;28;01mif\u001b[39;00m \u001b[38;5;129;01mnot\u001b[39;00m response\u001b[38;5;241m.\u001b[39mheaders\u001b[38;5;241m.\u001b[39mget(\u001b[38;5;124m\"\u001b[39m\u001b[38;5;124mAccept-Ranges\u001b[39m\u001b[38;5;124m\"\u001b[39m) \u001b[38;5;241m==\u001b[39m \u001b[38;5;124m\"\u001b[39m\u001b[38;5;124mbytes\u001b[39m\u001b[38;5;124m\"\u001b[39m:\n\u001b[0;32m    283\u001b[0m             filename \u001b[38;5;241m=\u001b[39m response\u001b[38;5;241m.\u001b[39mread()\n",
      "File \u001b[1;32mD:\\anaconda3\\envs\\Ciencia_De_Datos_Espaciales\\Lib\\urllib\\request.py:216\u001b[0m, in \u001b[0;36murlopen\u001b[1;34m(url, data, timeout, cafile, capath, cadefault, context)\u001b[0m\n\u001b[0;32m    214\u001b[0m \u001b[38;5;28;01melse\u001b[39;00m:\n\u001b[0;32m    215\u001b[0m     opener \u001b[38;5;241m=\u001b[39m _opener\n\u001b[1;32m--> 216\u001b[0m \u001b[38;5;28;01mreturn\u001b[39;00m opener\u001b[38;5;241m.\u001b[39mopen(url, data, timeout)\n",
      "File \u001b[1;32mD:\\anaconda3\\envs\\Ciencia_De_Datos_Espaciales\\Lib\\urllib\\request.py:525\u001b[0m, in \u001b[0;36mOpenerDirector.open\u001b[1;34m(self, fullurl, data, timeout)\u001b[0m\n\u001b[0;32m    523\u001b[0m \u001b[38;5;28;01mfor\u001b[39;00m processor \u001b[38;5;129;01min\u001b[39;00m \u001b[38;5;28mself\u001b[39m\u001b[38;5;241m.\u001b[39mprocess_response\u001b[38;5;241m.\u001b[39mget(protocol, []):\n\u001b[0;32m    524\u001b[0m     meth \u001b[38;5;241m=\u001b[39m \u001b[38;5;28mgetattr\u001b[39m(processor, meth_name)\n\u001b[1;32m--> 525\u001b[0m     response \u001b[38;5;241m=\u001b[39m meth(req, response)\n\u001b[0;32m    527\u001b[0m \u001b[38;5;28;01mreturn\u001b[39;00m response\n",
      "File \u001b[1;32mD:\\anaconda3\\envs\\Ciencia_De_Datos_Espaciales\\Lib\\urllib\\request.py:634\u001b[0m, in \u001b[0;36mHTTPErrorProcessor.http_response\u001b[1;34m(self, request, response)\u001b[0m\n\u001b[0;32m    631\u001b[0m \u001b[38;5;66;03m# According to RFC 2616, \"2xx\" code indicates that the client's\u001b[39;00m\n\u001b[0;32m    632\u001b[0m \u001b[38;5;66;03m# request was successfully received, understood, and accepted.\u001b[39;00m\n\u001b[0;32m    633\u001b[0m \u001b[38;5;28;01mif\u001b[39;00m \u001b[38;5;129;01mnot\u001b[39;00m (\u001b[38;5;241m200\u001b[39m \u001b[38;5;241m<\u001b[39m\u001b[38;5;241m=\u001b[39m code \u001b[38;5;241m<\u001b[39m \u001b[38;5;241m300\u001b[39m):\n\u001b[1;32m--> 634\u001b[0m     response \u001b[38;5;241m=\u001b[39m \u001b[38;5;28mself\u001b[39m\u001b[38;5;241m.\u001b[39mparent\u001b[38;5;241m.\u001b[39merror(\n\u001b[0;32m    635\u001b[0m         \u001b[38;5;124m'\u001b[39m\u001b[38;5;124mhttp\u001b[39m\u001b[38;5;124m'\u001b[39m, request, response, code, msg, hdrs)\n\u001b[0;32m    637\u001b[0m \u001b[38;5;28;01mreturn\u001b[39;00m response\n",
      "File \u001b[1;32mD:\\anaconda3\\envs\\Ciencia_De_Datos_Espaciales\\Lib\\urllib\\request.py:563\u001b[0m, in \u001b[0;36mOpenerDirector.error\u001b[1;34m(self, proto, *args)\u001b[0m\n\u001b[0;32m    561\u001b[0m \u001b[38;5;28;01mif\u001b[39;00m http_err:\n\u001b[0;32m    562\u001b[0m     args \u001b[38;5;241m=\u001b[39m (\u001b[38;5;28mdict\u001b[39m, \u001b[38;5;124m'\u001b[39m\u001b[38;5;124mdefault\u001b[39m\u001b[38;5;124m'\u001b[39m, \u001b[38;5;124m'\u001b[39m\u001b[38;5;124mhttp_error_default\u001b[39m\u001b[38;5;124m'\u001b[39m) \u001b[38;5;241m+\u001b[39m orig_args\n\u001b[1;32m--> 563\u001b[0m     \u001b[38;5;28;01mreturn\u001b[39;00m \u001b[38;5;28mself\u001b[39m\u001b[38;5;241m.\u001b[39m_call_chain(\u001b[38;5;241m*\u001b[39margs)\n",
      "File \u001b[1;32mD:\\anaconda3\\envs\\Ciencia_De_Datos_Espaciales\\Lib\\urllib\\request.py:496\u001b[0m, in \u001b[0;36mOpenerDirector._call_chain\u001b[1;34m(self, chain, kind, meth_name, *args)\u001b[0m\n\u001b[0;32m    494\u001b[0m \u001b[38;5;28;01mfor\u001b[39;00m handler \u001b[38;5;129;01min\u001b[39;00m handlers:\n\u001b[0;32m    495\u001b[0m     func \u001b[38;5;241m=\u001b[39m \u001b[38;5;28mgetattr\u001b[39m(handler, meth_name)\n\u001b[1;32m--> 496\u001b[0m     result \u001b[38;5;241m=\u001b[39m func(\u001b[38;5;241m*\u001b[39margs)\n\u001b[0;32m    497\u001b[0m     \u001b[38;5;28;01mif\u001b[39;00m result \u001b[38;5;129;01mis\u001b[39;00m \u001b[38;5;129;01mnot\u001b[39;00m \u001b[38;5;28;01mNone\u001b[39;00m:\n\u001b[0;32m    498\u001b[0m         \u001b[38;5;28;01mreturn\u001b[39;00m result\n",
      "File \u001b[1;32mD:\\anaconda3\\envs\\Ciencia_De_Datos_Espaciales\\Lib\\urllib\\request.py:643\u001b[0m, in \u001b[0;36mHTTPDefaultErrorHandler.http_error_default\u001b[1;34m(self, req, fp, code, msg, hdrs)\u001b[0m\n\u001b[0;32m    642\u001b[0m \u001b[38;5;28;01mdef\u001b[39;00m \u001b[38;5;21mhttp_error_default\u001b[39m(\u001b[38;5;28mself\u001b[39m, req, fp, code, msg, hdrs):\n\u001b[1;32m--> 643\u001b[0m     \u001b[38;5;28;01mraise\u001b[39;00m HTTPError(req\u001b[38;5;241m.\u001b[39mfull_url, code, msg, hdrs, fp)\n",
      "\u001b[1;31mHTTPError\u001b[0m: HTTP Error 404: Not Found"
     ]
    }
   ],
   "source": [
    "MajorRiverslink = \"https://github.com/Ciencia-de-datos-espaciales-2023-2/Evaluacion4_1ra-Parte_Mining_GeoDFs/raw/main/maps/Major_rivers/MajorRivers.shp\"\n",
    "MajorRivers = gpd.read_file(MajorRiverslink)\n",
    "MajorRivers3415 = MajorRivers.to_crs(3415)\n",
    "\n",
    "China3415_MajorRivers = gpd.clip(gdf = MajorRivers3415, mask = China3415)\n",
    "China3415_MajorRivers = China3415_MajorRivers.reset_index()\n",
    "China3415_MajorRivers = China3415_MajorRivers.drop(columns=\"index\")\n",
    "China3415_MajorRivers\n",
    "\n",
    "China3415_MajorRivers.to_file(os.path.join(\"maps\",\"China3415\",\"ChinaMaps_3415.gpkg\"), layer='MajorRivers', driver=\"GPKG\",index=\"\")"
   ]
  },
  {
   "cell_type": "markdown",
   "id": "47cda0c5",
   "metadata": {},
   "source": [
    "Plantas de energía nuclear en China:"
   ]
  },
  {
   "cell_type": "code",
   "execution_count": 34,
   "id": "738aa5b1",
   "metadata": {},
   "outputs": [],
   "source": [
    "China3415_NuclearPowerPlants = China3415_PowerPlants[China3415_PowerPlants.primary_fuel==\"Nuclear\"]\n",
    "China3415_NuclearPowerPlants = China3415_NuclearPowerPlants.rename(columns={\"name\":\"NuclearPowerPlant_Name\"})\n",
    "China3415_NuclearPowerPlants.to_file(os.path.join(\"maps\",\"China3415_PowerPlants\",\"China3415_PowerPlants.gpkg\"), layer='Nuclear', driver=\"GPKG\",index=\"\")"
   ]
  },
  {
   "cell_type": "markdown",
   "id": "fb3be805",
   "metadata": {},
   "source": [
    "## Ejercicio 3\n",
    "\n",
    "<div class=\"alert-success\">\n",
    "    \n",
    "1. Create a set of points and a set of polygons\n",
    "\n",
    "2. Compute the distance matrix for both sets.\n",
    "\n",
    "3. Select one polygon of the distance matrix, and plot the closests and the farthest point to that polygon. (cualquiera de los dos mapas. Puede ser el mapa estático o el mapa interactivo)\n",
    "    \n",
    "</div>   "
   ]
  },
  {
   "cell_type": "markdown",
   "id": "f30ee4d6",
   "metadata": {},
   "source": [
    "Conjunto de puntos: Plantas de energía renovable y no renovable"
   ]
  },
  {
   "cell_type": "code",
   "execution_count": 84,
   "id": "e5b7ca6b",
   "metadata": {},
   "outputs": [
    {
     "data": {
      "text/plain": [
       "<Projected CRS: EPSG:3415>\n",
       "Name: WGS 72BE / South China Sea Lambert\n",
       "Axis Info [cartesian]:\n",
       "- E[east]: Easting (metre)\n",
       "- N[north]: Northing (metre)\n",
       "Area of Use:\n",
       "- name: China - offshore South China Sea - Pearl River basin.\n",
       "- bounds: (110.13, 18.31, 116.76, 22.89)\n",
       "Coordinate Operation:\n",
       "- name: South China Sea Lambert\n",
       "- method: Lambert Conic Conformal (2SP)\n",
       "Datum: WGS 72 Transit Broadcast Ephemeris\n",
       "- Ellipsoid: WGS 72\n",
       "- Prime Meridian: Greenwich"
      ]
     },
     "execution_count": 84,
     "metadata": {},
     "output_type": "execute_result"
    }
   ],
   "source": [
    "Renewable = [\"Solar\",\"Hydro\",\"Wind\",\"Geothermal\"]\n",
    "NonRenewable = [\"Coal\",\"Gas\",\"Nuclear\",\"Oil\"]\n",
    "China3415_PowerPlants.loc[:,\"Type\"]= {}\n",
    "\n",
    "RenewablePowerPlants = China3415_PowerPlants.loc[China3415_PowerPlants[\"primary_fuel\"].isin(Renewable)]\n",
    "RenewablePowerPlants.loc[:,\"Type\"]= \"Renewable\"\n",
    "\n",
    "NonRenewablePowerPlants = China3415_PowerPlants.loc[China3415_PowerPlants[\"primary_fuel\"].isin(NonRenewable)]\n",
    "NonRenewablePowerPlants.loc[:,\"Type\"]=\"Non renewable\"\n",
    "\n",
    "RenewablePowerPlants.crs\n"
   ]
  },
  {
   "cell_type": "code",
   "execution_count": null,
   "id": "4a576689",
   "metadata": {},
   "outputs": [],
   "source": []
  },
  {
   "cell_type": "code",
   "execution_count": 38,
   "id": "599b6a75",
   "metadata": {},
   "outputs": [
    {
     "data": {
      "text/plain": [
       "primary_fuel\n",
       "Solar         1318\n",
       "Hydro          947\n",
       "Coal           946\n",
       "Wind           835\n",
       "Gas            170\n",
       "Nuclear         12\n",
       "Oil              5\n",
       "Geothermal       2\n",
       "Name: count, dtype: int64"
      ]
     },
     "execution_count": 38,
     "metadata": {},
     "output_type": "execute_result"
    }
   ],
   "source": [
    "China3415_PowerPlants[China3415_PowerPlants[\"primary_fuel\"].value_counts()\n"
   ]
  },
  {
   "cell_type": "markdown",
   "id": "9580d337",
   "metadata": {},
   "source": [
    "## Ejercicio 4\n",
    "\n",
    "<div class=\"alert-success\">\n",
    "    \n",
    "1. Create a set of points and a set of lines\n",
    "\n",
    "2. Get the buffer for the lines, select different values for the distance. Jugar con varias distancias, pero solo colocar una que tenga resultados interesantes en el notebook final.\n",
    "\n",
    "3. Keep the points that are within the buffer (as in point 2, you need to play with differn distances until you show something interesting. Todos los puntos que están dentro del buffer creado para la línea.\n",
    "   \n",
    "\n",
    "</div>   "
   ]
  },
  {
   "cell_type": "markdown",
   "id": "e1b10ec1",
   "metadata": {},
   "source": [
    "Conjunto de líneas:"
   ]
  },
  {
   "cell_type": "code",
   "execution_count": null,
   "id": "26e64bac",
   "metadata": {},
   "outputs": [],
   "source": []
  }
 ],
 "metadata": {
  "kernelspec": {
   "display_name": "Python 3 (ipykernel)",
   "language": "python",
   "name": "python3"
  },
  "language_info": {
   "codemirror_mode": {
    "name": "ipython",
    "version": 3
   },
   "file_extension": ".py",
   "mimetype": "text/x-python",
   "name": "python",
   "nbconvert_exporter": "python",
   "pygments_lexer": "ipython3",
   "version": "3.11.5"
  }
 },
 "nbformat": 4,
 "nbformat_minor": 5
}
