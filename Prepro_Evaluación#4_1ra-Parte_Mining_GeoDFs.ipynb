{
 "cells": [
  {
   "cell_type": "markdown",
   "id": "ec4a2552",
   "metadata": {},
   "source": [
    "# Preprocesamiento de datos\n",
    "\n",
    "## Ejercicios: Parte I\n",
    "\n",
    "<div class=\"alert-warning\">\n",
    "    \n",
    "Indicaciones: Los ejercicios 1, 2, 3 y 4 deben leer su data de links en Github y el código y los resultados deben ser publicados en páginas en Github.\n",
    "\n",
    "</div>"
   ]
  },
  {
   "cell_type": "markdown",
   "id": "d4226891",
   "metadata": {},
   "source": [
    "## Ejercicio 1\n",
    "\n",
    "<div class=\"alert-success\">\n",
    "    \n",
    "1. Use two maps of points.\n",
    "\n",
    "2. Compute the distance matrix for both maps.\n",
    "\n",
    "3. Select one row of the distance matrix, and plot the two points with the minimal distance on top of the country of your choosing. (distancia entre punto a punto)\n",
    "</div>"
   ]
  },
  {
   "cell_type": "markdown",
   "id": "4400529a",
   "metadata": {},
   "source": [
    "Mapas de puntos: Plantas de energía solar y eólica en China\n",
    "Fuente: [Global Power Plant Database](https://datasets.wri.org/dataset/globalpowerplantdatabase)"
   ]
  },
  {
   "cell_type": "code",
   "execution_count": 139,
   "id": "9c793ae3",
   "metadata": {},
   "outputs": [],
   "source": [
    "import pandas as pd\n",
    "import geopandas as gpd\n",
    "import os\n",
    "\n",
    "PowerPlants = pd.read_csv(\"https://github.com/Ciencia-de-datos-espaciales-2023-2/Evaluacion4_1ra-Parte_Mining_GeoDFs/raw/main/data/global_power_plant_database.csv\", dtype={'other_fuel3': 'object'})\n",
    "\n",
    "China_PowerPlants = PowerPlants[PowerPlants[\"country\"]==\"CHN\"]\n",
    "China_PowerPlants = China_PowerPlants.loc[:,[\"name\",\"gppd_idnr\",\"capacity_mw\",\"latitude\",\"longitude\",\"primary_fuel\"]]\n",
    "China_PowerPlants.reset_index(drop=True, inplace=True)\n",
    "\n",
    "#Dataframe a GeoDataframe:\n",
    "China_PowerPlants_gpd = gpd.GeoDataFrame(data=China_PowerPlants.copy(),\n",
    "                                        geometry=gpd.points_from_xy(x=China_PowerPlants.longitude,\n",
    "                                        y=China_PowerPlants.latitude),\n",
    "                                        crs=4326)\n",
    "\n",
    "#Cambiando los CRSs por unos proyectados y que coincidan con los de China3415:\n",
    "China3415_PowerPlants = China_PowerPlants_gpd.to_crs(3415)\n",
    "\n",
    "#Mapas de puntos: Plantas de energía solar y eólica\n",
    "China3415_SolarPowerPlants = China3415_PowerPlants[China3415_PowerPlants.primary_fuel==\"Solar\"]\n",
    "China3415_SolarPowerPlants = China3415_SolarPowerPlants.rename(columns={\"name\":\"SolarPowerPlant_Name\"})\n",
    "China3415_SolarPowerPlants = China3415_SolarPowerPlants.reset_index()\n",
    "China3415_SolarPowerPlants.drop(columns=\"index\",inplace=True)\n",
    "\n",
    "\n",
    "China3415_WindPowerPlants = China3415_PowerPlants[China3415_PowerPlants.primary_fuel==\"Wind\"]\n",
    "China3415_WindPowerPlants = China3415_WindPowerPlants.rename(columns={\"name\":\"WindPowerPlant_Name\"})\n",
    "China3415_WindPowerPlants = China3415_WindPowerPlants.reset_index()\n",
    "China3415_WindPowerPlants.drop(columns=\"index\",inplace=True)\n",
    "\n",
    "\n",
    "# Geopackage con los 2 mapas de puntos:\n",
    "China3415_SolarPowerPlants.to_file(os.path.join(\"maps\",\"China3415\",\"China3415_Maps.gpkg\"), layer=\"SolarPower_Plants\", driver=\"GPKG\",index=\"\")\n",
    "China3415_WindPowerPlants.to_file(os.path.join(\"maps\",\"China3415\",\"China3415_Maps.gpkg\"), layer=\"WindPower_Plants\", driver=\"GPKG\",index=\"\")"
   ]
  },
  {
   "cell_type": "markdown",
   "id": "456ed80b",
   "metadata": {},
   "source": [
    "## Ejercicio 2\n",
    "\n",
    "<div class=\"alert-success\">\n",
    "    \n",
    "1. Use a map of points and a map of lines.\n",
    "\n",
    "2. Compute the distance matrix for both maps.\n",
    "\n",
    "3. Select one line of the distance matrix, and plot the closests and the farthest point to that line. (Se puede seleccionar un río o un sistema y calcular el punto más cercano o lejano a la línea. Si se escoge un punto, se calcula la línea más cercana y lejana)\n",
    "    \n",
    "    \n",
    "</div>"
   ]
  },
  {
   "cell_type": "markdown",
   "id": "67ddc349",
   "metadata": {},
   "source": [
    "Plantas de energía nuclear en China:"
   ]
  },
  {
   "cell_type": "code",
   "execution_count": 140,
   "id": "6b90d31c",
   "metadata": {},
   "outputs": [],
   "source": [
    "China3415_NuclearPowerPlants = China3415_PowerPlants[China3415_PowerPlants.primary_fuel==\"Nuclear\"]\n",
    "China3415_NuclearPowerPlants = China3415_NuclearPowerPlants.rename(columns={\"name\":\"NuclearPowerPlant_Name\"})\n",
    "China3415_NuclearPowerPlants = China3415_NuclearPowerPlants.reset_index()\n",
    "China3415_NuclearPowerPlants.drop(columns=\"index\",inplace=True)\n",
    "\n",
    "China3415_NuclearPowerPlants.to_file(os.path.join(\"maps\",\"China3415\",\"China3415_Maps.gpkg\"), layer=\"NuclearPower_Plants\", driver=\"GPKG\",index=\"\")"
   ]
  },
  {
   "cell_type": "markdown",
   "id": "563274a9",
   "metadata": {},
   "source": [
    "Ríos principales en China:\n",
    "Fuente: [Major Rivers in the World](https://datacatalog.worldbank.org/search/dataset/0042032/Major-Rivers-of-the-World)"
   ]
  },
  {
   "cell_type": "code",
   "execution_count": 141,
   "id": "fa873f91",
   "metadata": {},
   "outputs": [],
   "source": [
    "#Mapa de ríos principales (más extensos) en el mundo\n",
    "MajorRiverslink = \"https://github.com/Ciencia-de-datos-espaciales-2023-2/Evaluacion4_1ra-Parte_Mining_GeoDFs/raw/main/maps/World_MajorRivers/MajorRivers.shp\"\n",
    "MajorRivers = gpd.read_file(MajorRiverslink)\n",
    "MajorRivers3415 = MajorRivers.to_crs(3415)\n",
    "\n",
    "#Mapa de China\n",
    "countries = gpd.read_file(\"https://github.com/Ciencia-de-datos-espaciales-2023-2/Evaluacion4_1ra-Parte_Mining_GeoDFs/raw/main/maps/World_Countries/World_Countries.shp\")\n",
    "China = countries[countries.COUNTRY=='China']\n",
    "China3415 = China.to_crs(3415)\n",
    "China3415.to_file(os.path.join(\"maps\",\"China3415\",\"China3415_Maps.gpkg\"), layer=\"Country\", driver=\"GPKG\",index=\"\")\n",
    "\n",
    "#Recortar los ríos para que solo se encuentren los que encierran a China\n",
    "China3415_MajorRivers = gpd.clip(gdf = MajorRivers3415, mask = China3415)\n",
    "China3415_MajorRivers = China3415_MajorRivers.reset_index()\n",
    "China3415_MajorRivers = China3415_MajorRivers.drop(columns=\"index\")\n",
    "China3415_MajorRivers = China3415_MajorRivers.rename(columns={\"NAME\":\"River_Name\"})\n",
    "China3415_MajorRivers = China3415_MajorRivers.rename(columns={\"NAME\":\"River_Name\", \"SYSTEM\":\"System\"})\n",
    "China3415_MajorRivers.replace({None:\"None\"}, inplace = True)\n",
    "\n",
    "China3415_MajorRivers.to_file(os.path.join(\"maps\",\"China3415\",\"China3415_Maps.gpkg\"), layer=\"Major_Rivers\", driver=\"GPKG\",index=\"\")"
   ]
  },
  {
   "cell_type": "markdown",
   "id": "fb3be805",
   "metadata": {},
   "source": [
    "## Ejercicio 3\n",
    "\n",
    "<div class=\"alert-success\">\n",
    "    \n",
    "1. Create a set of points and a set of polygons\n",
    "\n",
    "2. Compute the distance matrix for both sets.\n",
    "\n",
    "3. Select one polygon of the distance matrix, and plot the closests and the farthest point to that polygon. (cualquiera de los dos mapas. Puede ser el mapa estático o el mapa interactivo)\n",
    "    \n",
    "</div>   "
   ]
  },
  {
   "cell_type": "markdown",
   "id": "fd279938",
   "metadata": {},
   "source": [
    "Conjunto de polígonos: Convex hulls de ríos acorde al sistema al que pertenecen. Los que no forman parte de un sistema de ríos, se han engoblado en un mismo convex hull."
   ]
  },
  {
   "cell_type": "code",
   "execution_count": 142,
   "id": "aa5b64c3",
   "metadata": {},
   "outputs": [
    {
     "data": {
      "text/html": [
       "<div>\n",
       "<style scoped>\n",
       "    .dataframe tbody tr th:only-of-type {\n",
       "        vertical-align: middle;\n",
       "    }\n",
       "\n",
       "    .dataframe tbody tr th {\n",
       "        vertical-align: top;\n",
       "    }\n",
       "\n",
       "    .dataframe thead th {\n",
       "        text-align: right;\n",
       "    }\n",
       "</style>\n",
       "<table border=\"1\" class=\"dataframe\">\n",
       "  <thead>\n",
       "    <tr style=\"text-align: right;\">\n",
       "      <th></th>\n",
       "      <th>River_Name</th>\n",
       "      <th>System</th>\n",
       "      <th>MILES</th>\n",
       "      <th>KILOMETERS</th>\n",
       "      <th>geometry</th>\n",
       "    </tr>\n",
       "  </thead>\n",
       "  <tbody>\n",
       "    <tr>\n",
       "      <th>0</th>\n",
       "      <td>Mekong</td>\n",
       "      <td>None</td>\n",
       "      <td>2942.45095</td>\n",
       "      <td>4735.42525</td>\n",
       "      <td>MULTILINESTRING ((-1411216.206 1988600.080, -1...</td>\n",
       "    </tr>\n",
       "    <tr>\n",
       "      <th>1</th>\n",
       "      <td>Irrawaddy</td>\n",
       "      <td>None</td>\n",
       "      <td>1297.67231</td>\n",
       "      <td>2088.40532</td>\n",
       "      <td>LINESTRING (-1057977.328 1318106.869, -1052909...</td>\n",
       "    </tr>\n",
       "    <tr>\n",
       "      <th>2</th>\n",
       "      <td>Xi Jiang</td>\n",
       "      <td>None</td>\n",
       "      <td>1258.96091</td>\n",
       "      <td>2026.10524</td>\n",
       "      <td>MULTILINESTRING ((-511985.712 1072122.053, -52...</td>\n",
       "    </tr>\n",
       "    <tr>\n",
       "      <th>3</th>\n",
       "      <td>Salween</td>\n",
       "      <td>None</td>\n",
       "      <td>1795.43718</td>\n",
       "      <td>2889.48183</td>\n",
       "      <td>LINESTRING (-1659115.629 1889755.161, -1659001...</td>\n",
       "    </tr>\n",
       "    <tr>\n",
       "      <th>4</th>\n",
       "      <td>Yangtze</td>\n",
       "      <td>None</td>\n",
       "      <td>3513.65086</td>\n",
       "      <td>5654.68424</td>\n",
       "      <td>LINESTRING (-1707905.143 2144013.773, -1645915...</td>\n",
       "    </tr>\n",
       "    <tr>\n",
       "      <th>5</th>\n",
       "      <td>Huang He</td>\n",
       "      <td>None</td>\n",
       "      <td>3371.55586</td>\n",
       "      <td>5426.00404</td>\n",
       "      <td>MULTILINESTRING ((-1189346.745 2174180.647, -1...</td>\n",
       "    </tr>\n",
       "    <tr>\n",
       "      <th>6</th>\n",
       "      <td>Amur</td>\n",
       "      <td>None</td>\n",
       "      <td>3199.18145</td>\n",
       "      <td>5148.59377</td>\n",
       "      <td>MULTILINESTRING ((1197526.833 3878331.408, 119...</td>\n",
       "    </tr>\n",
       "    <tr>\n",
       "      <th>7</th>\n",
       "      <td>Brahmaputra</td>\n",
       "      <td>None</td>\n",
       "      <td>1897.09807</td>\n",
       "      <td>3053.08950</td>\n",
       "      <td>LINESTRING (-2589752.461 1864433.403, -2569624...</td>\n",
       "    </tr>\n",
       "    <tr>\n",
       "      <th>8</th>\n",
       "      <td>Indus</td>\n",
       "      <td>None</td>\n",
       "      <td>2015.16218</td>\n",
       "      <td>3243.09564</td>\n",
       "      <td>LINESTRING (-2775061.963 2154664.832, -2775051...</td>\n",
       "    </tr>\n",
       "    <tr>\n",
       "      <th>9</th>\n",
       "      <td>Irtysh</td>\n",
       "      <td>Ob</td>\n",
       "      <td>3099.37017</td>\n",
       "      <td>4987.96276</td>\n",
       "      <td>LINESTRING (-1887621.291 3824322.599, -1868389...</td>\n",
       "    </tr>\n",
       "  </tbody>\n",
       "</table>\n",
       "</div>"
      ],
      "text/plain": [
       "    River_Name System       MILES  KILOMETERS  \\\n",
       "0       Mekong   None  2942.45095  4735.42525   \n",
       "1    Irrawaddy   None  1297.67231  2088.40532   \n",
       "2     Xi Jiang   None  1258.96091  2026.10524   \n",
       "3      Salween   None  1795.43718  2889.48183   \n",
       "4      Yangtze   None  3513.65086  5654.68424   \n",
       "5     Huang He   None  3371.55586  5426.00404   \n",
       "6         Amur   None  3199.18145  5148.59377   \n",
       "7  Brahmaputra   None  1897.09807  3053.08950   \n",
       "8        Indus   None  2015.16218  3243.09564   \n",
       "9       Irtysh     Ob  3099.37017  4987.96276   \n",
       "\n",
       "                                            geometry  \n",
       "0  MULTILINESTRING ((-1411216.206 1988600.080, -1...  \n",
       "1  LINESTRING (-1057977.328 1318106.869, -1052909...  \n",
       "2  MULTILINESTRING ((-511985.712 1072122.053, -52...  \n",
       "3  LINESTRING (-1659115.629 1889755.161, -1659001...  \n",
       "4  LINESTRING (-1707905.143 2144013.773, -1645915...  \n",
       "5  MULTILINESTRING ((-1189346.745 2174180.647, -1...  \n",
       "6  MULTILINESTRING ((1197526.833 3878331.408, 119...  \n",
       "7  LINESTRING (-2589752.461 1864433.403, -2569624...  \n",
       "8  LINESTRING (-2775061.963 2154664.832, -2775051...  \n",
       "9  LINESTRING (-1887621.291 3824322.599, -1868389...  "
      ]
     },
     "execution_count": 142,
     "metadata": {},
     "output_type": "execute_result"
    }
   ],
   "source": [
    "China3415_MajorRivers"
   ]
  },
  {
   "cell_type": "code",
   "execution_count": 143,
   "id": "9de98a99",
   "metadata": {},
   "outputs": [],
   "source": [
    "#GeoDataFrame, agrupando por ríos\n",
    "China3415_RiverSystems = China3415_MajorRivers.dissolve(by=\"System\")\n",
    "China3415_RiverSystems = China3415_RiverSystems.drop(columns = [\"River_Name\",\"MILES\",\"KILOMETERS\"])\n",
    "China3415_RiverSystems.to_file(os.path.join(\"maps\",\"China3415\",\"China3415_Maps.gpkg\"), layer='RiverSystems', driver=\"GPKG\",index=\"\")\n",
    "\n",
    "#Convertir a convex hull y luego a un GeoDataFrame con polígonos\n",
    "China3415_RiverSystems_hulls = China3415_RiverSystems.convex_hull.to_frame()\n",
    "China3415_RiverSystems_hulls.rename(columns = {0:\"geometry\"}, inplace = True)\n",
    "China3415_RiverSystems_hulls = China3415_RiverSystems_hulls.set_geometry(\"geometry\")\n",
    "China3415_RiverSystems_hulls\n",
    "\n",
    "China3415_RiverSystems_hulls.to_file(os.path.join(\"maps\",\"China3415\",\"China3415_Maps.gpkg\"), layer='RiverSystems_hulls', driver=\"GPKG\",index=\"\")"
   ]
  },
  {
   "cell_type": "markdown",
   "id": "f30ee4d6",
   "metadata": {},
   "source": [
    "Conjunto de puntos: Plantas de energía nuclear en China"
   ]
  },
  {
   "cell_type": "markdown",
   "id": "9580d337",
   "metadata": {},
   "source": [
    "## Ejercicio 4\n",
    "\n",
    "<div class=\"alert-success\">\n",
    "    \n",
    "1. Create a set of points and a set of lines\n",
    "\n",
    "2. Get the buffer for the lines, select different values for the distance. Jugar con varias distancias, pero solo colocar una que tenga resultados interesantes en el notebook final.\n",
    "\n",
    "3. Keep the points that are within the buffer (as in point 2, you need to play with differn distances until you show something interesting. Todos los puntos que están dentro del buffer creado para la línea.\n",
    "   \n",
    "\n",
    "</div>   "
   ]
  },
  {
   "cell_type": "markdown",
   "id": "e1b10ec1",
   "metadata": {},
   "source": [
    "- Set de puntos: China3415_NuclearPowerPlants\n",
    "- Set de líneas: China3415_RiverSystems"
   ]
  }
 ],
 "metadata": {
  "kernelspec": {
   "display_name": "Python 3 (ipykernel)",
   "language": "python",
   "name": "python3"
  },
  "language_info": {
   "codemirror_mode": {
    "name": "ipython",
    "version": 3
   },
   "file_extension": ".py",
   "mimetype": "text/x-python",
   "name": "python",
   "nbconvert_exporter": "python",
   "pygments_lexer": "ipython3",
   "version": "3.11.5"
  }
 },
 "nbformat": 4,
 "nbformat_minor": 5
}
