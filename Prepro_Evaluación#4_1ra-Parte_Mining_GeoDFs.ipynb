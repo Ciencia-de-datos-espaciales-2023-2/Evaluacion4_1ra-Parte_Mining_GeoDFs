{
 "cells": [
  {
   "cell_type": "markdown",
   "id": "ec4a2552",
   "metadata": {},
   "source": [
    "# Ejercicios: Parte I\n",
    "\n",
    "<div class=\"alert-warning\">\n",
    "    \n",
    "Indicaciones: Los ejercicios 1, 2, 3 y 4 deben leer su data de links en Github y el código y los resultados deben ser publicados en páginas en Github.\n",
    "\n",
    "</div>"
   ]
  },
  {
   "cell_type": "markdown",
   "id": "d4226891",
   "metadata": {},
   "source": [
    "## Ejercicio 1\n",
    "\n",
    "<div class=\"alert-success\">\n",
    "    \n",
    "1. Use two maps of points.\n",
    "\n",
    "2. Compute the distance matrix for both maps.\n",
    "\n",
    "3. Select one row of the distance matrix, and plot the two points with the minimal distance on top of the country of your choosing. (distancia entre punto a punto)\n",
    "</div>"
   ]
  },
  {
   "cell_type": "markdown",
   "id": "456ed80b",
   "metadata": {},
   "source": [
    "## Ejercicio 2\n",
    "\n",
    "<div class=\"alert-success\">\n",
    "    \n",
    "1. Use a map of points and a map of lines.\n",
    "\n",
    "2. Compute the distance matrix for both maps.\n",
    "\n",
    "3. Select one line of the distance matrix, and plot the closests and the farthest point to that line. (Se puede seleccionar un río o un sistema y calcular el punto más cercano o lejano a la línea. Si se escoge un punto, se calcula la línea más cercana y lejana)\n",
    "    \n",
    "    \n",
    "</div>"
   ]
  },
  {
   "cell_type": "markdown",
   "id": "fb3be805",
   "metadata": {},
   "source": [
    "## Ejercicio 3\n",
    "\n",
    "<div class=\"alert-success\">\n",
    "    \n",
    "1. Create a set of points and a set of polygons\n",
    "\n",
    "2. Compute the distance matrix for both sets.\n",
    "\n",
    "3. Select one polygon of the distance matrix, and plot the closests and the farthest point to that polygon. (cualquiera de los dos mapas. Puede ser el mapa estático o el mapa interactivo)\n",
    "    \n",
    "</div>   "
   ]
  },
  {
   "cell_type": "markdown",
   "id": "9580d337",
   "metadata": {},
   "source": [
    "## Ejercicio 4\n",
    "\n",
    "<div class=\"alert-success\">\n",
    "    \n",
    "1. Create a set of points and a set of lines\n",
    "\n",
    "2. Get the buffer for the lines, select different values for the distance. Jugar con varias distancias, pero solo colocar una que tenga resultados interesantes en el notebook final.\n",
    "\n",
    "3. Keep the points that are within the buffer (as in point 2, you need to play with differn distances until you show something interesting. Todos los puntos que están dentro del buffer creado para la línea.\n",
    "   \n",
    "\n",
    "</div>   "
   ]
  }
 ],
 "metadata": {
  "kernelspec": {
   "display_name": "Python 3 (ipykernel)",
   "language": "python",
   "name": "python3"
  },
  "language_info": {
   "codemirror_mode": {
    "name": "ipython",
    "version": 3
   },
   "file_extension": ".py",
   "mimetype": "text/x-python",
   "name": "python",
   "nbconvert_exporter": "python",
   "pygments_lexer": "ipython3",
   "version": "3.11.5"
  }
 },
 "nbformat": 4,
 "nbformat_minor": 5
}
