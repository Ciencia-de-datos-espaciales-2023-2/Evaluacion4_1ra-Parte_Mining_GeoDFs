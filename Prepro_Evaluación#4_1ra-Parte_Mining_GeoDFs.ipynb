{
 "cells": [
  {
   "cell_type": "markdown",
   "id": "ec4a2552",
   "metadata": {},
   "source": [
    "# Preprocesamiento de datos\n",
    "\n",
    "## Ejercicios: Parte I\n",
    "\n",
    "<div class=\"alert-warning\">\n",
    "    \n",
    "Indicaciones: Los ejercicios 1, 2, 3 y 4 deben leer su data de links en Github y el código y los resultados deben ser publicados en páginas en Github.\n",
    "\n",
    "</div>"
   ]
  },
  {
   "cell_type": "markdown",
   "id": "d4226891",
   "metadata": {},
   "source": [
    "## Ejercicio 1\n",
    "\n",
    "<div class=\"alert-success\">\n",
    "    \n",
    "1. Use two maps of points.\n",
    "\n",
    "2. Compute the distance matrix for both maps.\n",
    "\n",
    "3. Select one row of the distance matrix, and plot the two points with the minimal distance on top of the country of your choosing. (distancia entre punto a punto)\n",
    "</div>"
   ]
  },
  {
   "cell_type": "markdown",
   "id": "c4efa971",
   "metadata": {},
   "source": [
    "Mapas de puntos: Plantas de energía solar y eólica en China\n",
    "\n",
    "Fuente: [Global Power Plant Database](https://datasets.wri.org/dataset/globalpowerplantdatabase)"
   ]
  },
  {
   "cell_type": "code",
   "execution_count": 51,
   "id": "9c793ae3",
   "metadata": {},
   "outputs": [
    {
     "ename": "DriverError",
     "evalue": "sqlite3_open(maps\\China_3415\\China3415_Maps.gpkg) failed: unable to open database file",
     "output_type": "error",
     "traceback": [
      "\u001b[1;31m---------------------------------------------------------------------------\u001b[0m",
      "\u001b[1;31mCPLE_OpenFailedError\u001b[0m                      Traceback (most recent call last)",
      "File \u001b[1;32mfiona\\\\ogrext.pyx:175\u001b[0m, in \u001b[0;36mfiona.ogrext.gdal_create\u001b[1;34m()\u001b[0m\n",
      "File \u001b[1;32mfiona\\\\_err.pyx:291\u001b[0m, in \u001b[0;36mfiona._err.exc_wrap_pointer\u001b[1;34m()\u001b[0m\n",
      "\u001b[1;31mCPLE_OpenFailedError\u001b[0m: sqlite3_open(maps\\China_3415\\China3415_Maps.gpkg) failed: unable to open database file",
      "\nDuring handling of the above exception, another exception occurred:\n",
      "\u001b[1;31mDriverError\u001b[0m                               Traceback (most recent call last)",
      "Cell \u001b[1;32mIn[51], line 34\u001b[0m\n\u001b[0;32m     30\u001b[0m China3415_WindPowerPlants\u001b[38;5;241m.\u001b[39mdrop(columns\u001b[38;5;241m=\u001b[39m\u001b[38;5;124m\"\u001b[39m\u001b[38;5;124mindex\u001b[39m\u001b[38;5;124m\"\u001b[39m,inplace\u001b[38;5;241m=\u001b[39m\u001b[38;5;28;01mTrue\u001b[39;00m)\n\u001b[0;32m     33\u001b[0m \u001b[38;5;66;03m# Geopackage con los 2 mapas de puntos:\u001b[39;00m\n\u001b[1;32m---> 34\u001b[0m China3415_SolarPowerPlants\u001b[38;5;241m.\u001b[39mto_file(os\u001b[38;5;241m.\u001b[39mpath\u001b[38;5;241m.\u001b[39mjoin(\u001b[38;5;124m\"\u001b[39m\u001b[38;5;124mmaps\u001b[39m\u001b[38;5;124m\"\u001b[39m,\u001b[38;5;124m\"\u001b[39m\u001b[38;5;124mChina_3415\u001b[39m\u001b[38;5;124m\"\u001b[39m,\u001b[38;5;124m\"\u001b[39m\u001b[38;5;124mChina3415_Maps.gpkg\u001b[39m\u001b[38;5;124m\"\u001b[39m), layer\u001b[38;5;241m=\u001b[39m\u001b[38;5;124m\"\u001b[39m\u001b[38;5;124mSolarPower_Plants\u001b[39m\u001b[38;5;124m\"\u001b[39m, driver\u001b[38;5;241m=\u001b[39m\u001b[38;5;124m\"\u001b[39m\u001b[38;5;124mGPKG\u001b[39m\u001b[38;5;124m\"\u001b[39m,index\u001b[38;5;241m=\u001b[39m\u001b[38;5;124m\"\u001b[39m\u001b[38;5;124m\"\u001b[39m)\n\u001b[0;32m     35\u001b[0m China3415_WindPowerPlants\u001b[38;5;241m.\u001b[39mto_file(os\u001b[38;5;241m.\u001b[39mpath\u001b[38;5;241m.\u001b[39mjoin(\u001b[38;5;124m\"\u001b[39m\u001b[38;5;124mmaps\u001b[39m\u001b[38;5;124m\"\u001b[39m,\u001b[38;5;124m\"\u001b[39m\u001b[38;5;124mChina_3415\u001b[39m\u001b[38;5;124m\"\u001b[39m,\u001b[38;5;124m\"\u001b[39m\u001b[38;5;124mChina3415_Maps.gpkg\u001b[39m\u001b[38;5;124m\"\u001b[39m), layer\u001b[38;5;241m=\u001b[39m\u001b[38;5;124m\"\u001b[39m\u001b[38;5;124mWindPower_Plants\u001b[39m\u001b[38;5;124m\"\u001b[39m, driver\u001b[38;5;241m=\u001b[39m\u001b[38;5;124m\"\u001b[39m\u001b[38;5;124mGPKG\u001b[39m\u001b[38;5;124m\"\u001b[39m,index\u001b[38;5;241m=\u001b[39m\u001b[38;5;124m\"\u001b[39m\u001b[38;5;124m\"\u001b[39m)\n",
      "File \u001b[1;32mD:\\anaconda3\\envs\\Ciencia_De_Datos_Espaciales\\Lib\\site-packages\\geopandas\\geodataframe.py:1264\u001b[0m, in \u001b[0;36mGeoDataFrame.to_file\u001b[1;34m(self, filename, driver, schema, index, **kwargs)\u001b[0m\n\u001b[0;32m   1173\u001b[0m \u001b[38;5;250m\u001b[39m\u001b[38;5;124;03m\"\"\"Write the ``GeoDataFrame`` to a file.\u001b[39;00m\n\u001b[0;32m   1174\u001b[0m \n\u001b[0;32m   1175\u001b[0m \u001b[38;5;124;03mBy default, an ESRI shapefile is written, but any OGR data source\u001b[39;00m\n\u001b[1;32m   (...)\u001b[0m\n\u001b[0;32m   1260\u001b[0m \n\u001b[0;32m   1261\u001b[0m \u001b[38;5;124;03m\"\"\"\u001b[39;00m\n\u001b[0;32m   1262\u001b[0m \u001b[38;5;28;01mfrom\u001b[39;00m \u001b[38;5;21;01mgeopandas\u001b[39;00m\u001b[38;5;21;01m.\u001b[39;00m\u001b[38;5;21;01mio\u001b[39;00m\u001b[38;5;21;01m.\u001b[39;00m\u001b[38;5;21;01mfile\u001b[39;00m \u001b[38;5;28;01mimport\u001b[39;00m _to_file\n\u001b[1;32m-> 1264\u001b[0m _to_file(\u001b[38;5;28mself\u001b[39m, filename, driver, schema, index, \u001b[38;5;241m*\u001b[39m\u001b[38;5;241m*\u001b[39mkwargs)\n",
      "File \u001b[1;32mD:\\anaconda3\\envs\\Ciencia_De_Datos_Espaciales\\Lib\\site-packages\\geopandas\\io\\file.py:608\u001b[0m, in \u001b[0;36m_to_file\u001b[1;34m(df, filename, driver, schema, index, mode, crs, engine, **kwargs)\u001b[0m\n\u001b[0;32m    605\u001b[0m     \u001b[38;5;28;01mraise\u001b[39;00m \u001b[38;5;167;01mValueError\u001b[39;00m(\u001b[38;5;124mf\u001b[39m\u001b[38;5;124m\"\u001b[39m\u001b[38;5;124m'\u001b[39m\u001b[38;5;124mmode\u001b[39m\u001b[38;5;124m'\u001b[39m\u001b[38;5;124m should be one of \u001b[39m\u001b[38;5;124m'\u001b[39m\u001b[38;5;124mw\u001b[39m\u001b[38;5;124m'\u001b[39m\u001b[38;5;124m or \u001b[39m\u001b[38;5;124m'\u001b[39m\u001b[38;5;124ma\u001b[39m\u001b[38;5;124m'\u001b[39m\u001b[38;5;124m, got \u001b[39m\u001b[38;5;124m'\u001b[39m\u001b[38;5;132;01m{\u001b[39;00mmode\u001b[38;5;132;01m}\u001b[39;00m\u001b[38;5;124m'\u001b[39m\u001b[38;5;124m instead\u001b[39m\u001b[38;5;124m\"\u001b[39m)\n\u001b[0;32m    607\u001b[0m \u001b[38;5;28;01mif\u001b[39;00m engine \u001b[38;5;241m==\u001b[39m \u001b[38;5;124m\"\u001b[39m\u001b[38;5;124mfiona\u001b[39m\u001b[38;5;124m\"\u001b[39m:\n\u001b[1;32m--> 608\u001b[0m     _to_file_fiona(df, filename, driver, schema, crs, mode, \u001b[38;5;241m*\u001b[39m\u001b[38;5;241m*\u001b[39mkwargs)\n\u001b[0;32m    609\u001b[0m \u001b[38;5;28;01melif\u001b[39;00m engine \u001b[38;5;241m==\u001b[39m \u001b[38;5;124m\"\u001b[39m\u001b[38;5;124mpyogrio\u001b[39m\u001b[38;5;124m\"\u001b[39m:\n\u001b[0;32m    610\u001b[0m     _to_file_pyogrio(df, filename, driver, schema, crs, mode, \u001b[38;5;241m*\u001b[39m\u001b[38;5;241m*\u001b[39mkwargs)\n",
      "File \u001b[1;32mD:\\anaconda3\\envs\\Ciencia_De_Datos_Espaciales\\Lib\\site-packages\\geopandas\\io\\file.py:634\u001b[0m, in \u001b[0;36m_to_file_fiona\u001b[1;34m(df, filename, driver, schema, crs, mode, **kwargs)\u001b[0m\n\u001b[0;32m    632\u001b[0m \u001b[38;5;28;01melif\u001b[39;00m crs:\n\u001b[0;32m    633\u001b[0m     crs_wkt \u001b[38;5;241m=\u001b[39m crs\u001b[38;5;241m.\u001b[39mto_wkt(\u001b[38;5;124m\"\u001b[39m\u001b[38;5;124mWKT1_GDAL\u001b[39m\u001b[38;5;124m\"\u001b[39m)\n\u001b[1;32m--> 634\u001b[0m \u001b[38;5;28;01mwith\u001b[39;00m fiona\u001b[38;5;241m.\u001b[39mopen(\n\u001b[0;32m    635\u001b[0m     filename, mode\u001b[38;5;241m=\u001b[39mmode, driver\u001b[38;5;241m=\u001b[39mdriver, crs_wkt\u001b[38;5;241m=\u001b[39mcrs_wkt, schema\u001b[38;5;241m=\u001b[39mschema, \u001b[38;5;241m*\u001b[39m\u001b[38;5;241m*\u001b[39mkwargs\n\u001b[0;32m    636\u001b[0m ) \u001b[38;5;28;01mas\u001b[39;00m colxn:\n\u001b[0;32m    637\u001b[0m     colxn\u001b[38;5;241m.\u001b[39mwriterecords(df\u001b[38;5;241m.\u001b[39miterfeatures())\n",
      "File \u001b[1;32mD:\\anaconda3\\envs\\Ciencia_De_Datos_Espaciales\\Lib\\site-packages\\fiona\\env.py:457\u001b[0m, in \u001b[0;36mensure_env_with_credentials.<locals>.wrapper\u001b[1;34m(*args, **kwds)\u001b[0m\n\u001b[0;32m    454\u001b[0m     session \u001b[38;5;241m=\u001b[39m DummySession()\n\u001b[0;32m    456\u001b[0m \u001b[38;5;28;01mwith\u001b[39;00m env_ctor(session\u001b[38;5;241m=\u001b[39msession):\n\u001b[1;32m--> 457\u001b[0m     \u001b[38;5;28;01mreturn\u001b[39;00m f(\u001b[38;5;241m*\u001b[39margs, \u001b[38;5;241m*\u001b[39m\u001b[38;5;241m*\u001b[39mkwds)\n",
      "File \u001b[1;32mD:\\anaconda3\\envs\\Ciencia_De_Datos_Espaciales\\Lib\\site-packages\\fiona\\__init__.py:303\u001b[0m, in \u001b[0;36mopen\u001b[1;34m(fp, mode, driver, schema, crs, encoding, layer, vfs, enabled_drivers, crs_wkt, allow_unsupported_drivers, **kwargs)\u001b[0m\n\u001b[0;32m    292\u001b[0m     colxn \u001b[38;5;241m=\u001b[39m Collection(\n\u001b[0;32m    293\u001b[0m         path,\n\u001b[0;32m    294\u001b[0m         mode,\n\u001b[1;32m   (...)\u001b[0m\n\u001b[0;32m    300\u001b[0m         \u001b[38;5;241m*\u001b[39m\u001b[38;5;241m*\u001b[39mkwargs\n\u001b[0;32m    301\u001b[0m     )\n\u001b[0;32m    302\u001b[0m \u001b[38;5;28;01melif\u001b[39;00m mode \u001b[38;5;241m==\u001b[39m \u001b[38;5;124m\"\u001b[39m\u001b[38;5;124mw\u001b[39m\u001b[38;5;124m\"\u001b[39m:\n\u001b[1;32m--> 303\u001b[0m     colxn \u001b[38;5;241m=\u001b[39m Collection(\n\u001b[0;32m    304\u001b[0m         path,\n\u001b[0;32m    305\u001b[0m         mode,\n\u001b[0;32m    306\u001b[0m         crs\u001b[38;5;241m=\u001b[39mcrs,\n\u001b[0;32m    307\u001b[0m         driver\u001b[38;5;241m=\u001b[39mdriver,\n\u001b[0;32m    308\u001b[0m         schema\u001b[38;5;241m=\u001b[39mschema,\n\u001b[0;32m    309\u001b[0m         encoding\u001b[38;5;241m=\u001b[39mencoding,\n\u001b[0;32m    310\u001b[0m         layer\u001b[38;5;241m=\u001b[39mlayer,\n\u001b[0;32m    311\u001b[0m         enabled_drivers\u001b[38;5;241m=\u001b[39menabled_drivers,\n\u001b[0;32m    312\u001b[0m         crs_wkt\u001b[38;5;241m=\u001b[39mcrs_wkt,\n\u001b[0;32m    313\u001b[0m         allow_unsupported_drivers\u001b[38;5;241m=\u001b[39mallow_unsupported_drivers,\n\u001b[0;32m    314\u001b[0m         \u001b[38;5;241m*\u001b[39m\u001b[38;5;241m*\u001b[39mkwargs\n\u001b[0;32m    315\u001b[0m     )\n\u001b[0;32m    316\u001b[0m \u001b[38;5;28;01melse\u001b[39;00m:\n\u001b[0;32m    317\u001b[0m     \u001b[38;5;28;01mraise\u001b[39;00m \u001b[38;5;167;01mValueError\u001b[39;00m(\u001b[38;5;124m\"\u001b[39m\u001b[38;5;124mmode string must be one of \u001b[39m\u001b[38;5;124m{\u001b[39m\u001b[38;5;124m'\u001b[39m\u001b[38;5;124mr\u001b[39m\u001b[38;5;124m'\u001b[39m\u001b[38;5;124m, \u001b[39m\u001b[38;5;124m'\u001b[39m\u001b[38;5;124mw\u001b[39m\u001b[38;5;124m'\u001b[39m\u001b[38;5;124m, \u001b[39m\u001b[38;5;124m'\u001b[39m\u001b[38;5;124ma\u001b[39m\u001b[38;5;124m'\u001b[39m\u001b[38;5;124m}\u001b[39m\u001b[38;5;124m\"\u001b[39m)\n",
      "File \u001b[1;32mD:\\anaconda3\\envs\\Ciencia_De_Datos_Espaciales\\Lib\\site-packages\\fiona\\collection.py:246\u001b[0m, in \u001b[0;36mCollection.__init__\u001b[1;34m(self, path, mode, driver, schema, crs, encoding, layer, vsi, archive, enabled_drivers, crs_wkt, ignore_fields, ignore_geometry, include_fields, wkt_version, allow_unsupported_drivers, **kwargs)\u001b[0m\n\u001b[0;32m    244\u001b[0m     \u001b[38;5;28;01melif\u001b[39;00m \u001b[38;5;28mself\u001b[39m\u001b[38;5;241m.\u001b[39mmode \u001b[38;5;129;01min\u001b[39;00m (\u001b[38;5;124m\"\u001b[39m\u001b[38;5;124ma\u001b[39m\u001b[38;5;124m\"\u001b[39m, \u001b[38;5;124m\"\u001b[39m\u001b[38;5;124mw\u001b[39m\u001b[38;5;124m\"\u001b[39m):\n\u001b[0;32m    245\u001b[0m         \u001b[38;5;28mself\u001b[39m\u001b[38;5;241m.\u001b[39msession \u001b[38;5;241m=\u001b[39m WritingSession()\n\u001b[1;32m--> 246\u001b[0m         \u001b[38;5;28mself\u001b[39m\u001b[38;5;241m.\u001b[39msession\u001b[38;5;241m.\u001b[39mstart(\u001b[38;5;28mself\u001b[39m, \u001b[38;5;241m*\u001b[39m\u001b[38;5;241m*\u001b[39mkwargs)\n\u001b[0;32m    247\u001b[0m \u001b[38;5;28;01mexcept\u001b[39;00m \u001b[38;5;167;01mOSError\u001b[39;00m:\n\u001b[0;32m    248\u001b[0m     \u001b[38;5;28mself\u001b[39m\u001b[38;5;241m.\u001b[39msession \u001b[38;5;241m=\u001b[39m \u001b[38;5;28;01mNone\u001b[39;00m\n",
      "File \u001b[1;32mfiona\\\\ogrext.pyx:1110\u001b[0m, in \u001b[0;36mfiona.ogrext.WritingSession.start\u001b[1;34m()\u001b[0m\n",
      "File \u001b[1;32mfiona\\\\ogrext.pyx:1111\u001b[0m, in \u001b[0;36mfiona.ogrext.WritingSession.start\u001b[1;34m()\u001b[0m\n",
      "File \u001b[1;32mfiona\\\\ogrext.pyx:179\u001b[0m, in \u001b[0;36mfiona.ogrext.gdal_create\u001b[1;34m()\u001b[0m\n",
      "\u001b[1;31mDriverError\u001b[0m: sqlite3_open(maps\\China_3415\\China3415_Maps.gpkg) failed: unable to open database file"
     ]
    }
   ],
   "source": [
    "import pandas as pd\n",
    "import geopandas as gpd\n",
    "import os\n",
    "\n",
    "PowerPlants = pd.read_csv(\"https://github.com/Ciencia-de-datos-espaciales-2023-2/Evaluacion4_1ra-Parte_Mining_GeoDFs/raw/main/data/global_power_plant_database.csv\", dtype={'other_fuel3': 'object'})\n",
    "\n",
    "China_PowerPlants = PowerPlants[PowerPlants[\"country\"]==\"CHN\"]\n",
    "China_PowerPlants = China_PowerPlants.loc[:,[\"name\",\"gppd_idnr\",\"capacity_mw\",\"latitude\",\"longitude\",\"primary_fuel\"]]\n",
    "China_PowerPlants.reset_index(drop=True, inplace=True)\n",
    "\n",
    "#Dataframe a GeoDataframe:\n",
    "China_PowerPlants_gpd = gpd.GeoDataFrame(data=China_PowerPlants.copy(),\n",
    "                                        geometry=gpd.points_from_xy(x=China_PowerPlants.longitude,\n",
    "                                        y=China_PowerPlants.latitude),\n",
    "                                        crs=4326)\n",
    "\n",
    "#Cambiando los CRSs por unos proyectados y que coincidan con los de China3415:\n",
    "China3415_PowerPlants = China_PowerPlants_gpd.to_crs(3415)\n",
    "\n",
    "#Mapas de puntos: Plantas de energía solar y eólica\n",
    "China3415_SolarPowerPlants = China3415_PowerPlants[China3415_PowerPlants.primary_fuel==\"Solar\"]\n",
    "China3415_SolarPowerPlants = China3415_SolarPowerPlants.rename(columns={\"name\":\"SolarPowerPlant_Name\"})\n",
    "China3415_SolarPowerPlants = China3415_SolarPowerPlants.reset_index()\n",
    "China3415_SolarPowerPlants.drop(columns=\"index\",inplace=True)\n",
    "\n",
    "\n",
    "China3415_WindPowerPlants = China3415_PowerPlants[China3415_PowerPlants.primary_fuel==\"Wind\"]\n",
    "China3415_WindPowerPlants = China3415_WindPowerPlants.rename(columns={\"name\":\"WindPowerPlant_Name\"})\n",
    "China3415_WindPowerPlants = China3415_WindPowerPlants.reset_index()\n",
    "China3415_WindPowerPlants.drop(columns=\"index\",inplace=True)\n",
    "\n",
    "\n",
    "# Geopackage con los 2 mapas de puntos:\n",
    "China3415_SolarPowerPlants.to_file(os.path.join(\"maps\",\"China_3415\",\"China3415_Maps.gpkg\"), layer=\"SolarPower_Plants\", driver=\"GPKG\",index=\"\")\n",
    "China3415_WindPowerPlants.to_file(os.path.join(\"maps\",\"China_3415\",\"China3415_Maps.gpkg\"), layer=\"WindPower_Plants\", driver=\"GPKG\",index=\"\")"
   ]
  },
  {
   "cell_type": "markdown",
   "id": "456ed80b",
   "metadata": {},
   "source": [
    "## Ejercicio 2\n",
    "\n",
    "<div class=\"alert-success\">\n",
    "    \n",
    "1. Use a map of points and a map of lines.\n",
    "\n",
    "2. Compute the distance matrix for both maps.\n",
    "\n",
    "3. Select one line of the distance matrix, and plot the closests and the farthest point to that line. (Se puede seleccionar un río o un sistema y calcular el punto más cercano o lejano a la línea. Si se escoge un punto, se calcula la línea más cercana y lejana)\n",
    "    \n",
    "    \n",
    "</div>"
   ]
  },
  {
   "cell_type": "markdown",
   "id": "e8fe95db",
   "metadata": {},
   "source": [
    "Plantas de energía nuclear en China:"
   ]
  },
  {
   "cell_type": "code",
   "execution_count": 49,
   "id": "64902daa",
   "metadata": {},
   "outputs": [
    {
     "ename": "DriverError",
     "evalue": "sqlite3_open(maps\\China_3415\\China3415_Maps.gpkg) failed: unable to open database file",
     "output_type": "error",
     "traceback": [
      "\u001b[1;31m---------------------------------------------------------------------------\u001b[0m",
      "\u001b[1;31mCPLE_OpenFailedError\u001b[0m                      Traceback (most recent call last)",
      "File \u001b[1;32mfiona\\\\ogrext.pyx:175\u001b[0m, in \u001b[0;36mfiona.ogrext.gdal_create\u001b[1;34m()\u001b[0m\n",
      "File \u001b[1;32mfiona\\\\_err.pyx:291\u001b[0m, in \u001b[0;36mfiona._err.exc_wrap_pointer\u001b[1;34m()\u001b[0m\n",
      "\u001b[1;31mCPLE_OpenFailedError\u001b[0m: sqlite3_open(maps\\China_3415\\China3415_Maps.gpkg) failed: unable to open database file",
      "\nDuring handling of the above exception, another exception occurred:\n",
      "\u001b[1;31mDriverError\u001b[0m                               Traceback (most recent call last)",
      "Cell \u001b[1;32mIn[49], line 6\u001b[0m\n\u001b[0;32m      3\u001b[0m China3415_NuclearPowerPlants \u001b[38;5;241m=\u001b[39m China3415_NuclearPowerPlants\u001b[38;5;241m.\u001b[39mreset_index()\n\u001b[0;32m      4\u001b[0m China3415_NuclearPowerPlants\u001b[38;5;241m.\u001b[39mdrop(columns\u001b[38;5;241m=\u001b[39m\u001b[38;5;124m\"\u001b[39m\u001b[38;5;124mindex\u001b[39m\u001b[38;5;124m\"\u001b[39m,inplace\u001b[38;5;241m=\u001b[39m\u001b[38;5;28;01mTrue\u001b[39;00m)\n\u001b[1;32m----> 6\u001b[0m China3415_NuclearPowerPlants\u001b[38;5;241m.\u001b[39mto_file(os\u001b[38;5;241m.\u001b[39mpath\u001b[38;5;241m.\u001b[39mjoin(\u001b[38;5;124m\"\u001b[39m\u001b[38;5;124mmaps\u001b[39m\u001b[38;5;124m\"\u001b[39m,\u001b[38;5;124m\"\u001b[39m\u001b[38;5;124mChina_3415\u001b[39m\u001b[38;5;124m\"\u001b[39m,\u001b[38;5;124m\"\u001b[39m\u001b[38;5;124mChina3415_Maps.gpkg\u001b[39m\u001b[38;5;124m\"\u001b[39m), layer\u001b[38;5;241m=\u001b[39m\u001b[38;5;124m\"\u001b[39m\u001b[38;5;124mNuclearPower_Plants\u001b[39m\u001b[38;5;124m\"\u001b[39m, driver\u001b[38;5;241m=\u001b[39m\u001b[38;5;124m\"\u001b[39m\u001b[38;5;124mGPKG\u001b[39m\u001b[38;5;124m\"\u001b[39m,index\u001b[38;5;241m=\u001b[39m\u001b[38;5;124m\"\u001b[39m\u001b[38;5;124m\"\u001b[39m)\n",
      "File \u001b[1;32mD:\\anaconda3\\envs\\Ciencia_De_Datos_Espaciales\\Lib\\site-packages\\geopandas\\geodataframe.py:1264\u001b[0m, in \u001b[0;36mGeoDataFrame.to_file\u001b[1;34m(self, filename, driver, schema, index, **kwargs)\u001b[0m\n\u001b[0;32m   1173\u001b[0m \u001b[38;5;250m\u001b[39m\u001b[38;5;124;03m\"\"\"Write the ``GeoDataFrame`` to a file.\u001b[39;00m\n\u001b[0;32m   1174\u001b[0m \n\u001b[0;32m   1175\u001b[0m \u001b[38;5;124;03mBy default, an ESRI shapefile is written, but any OGR data source\u001b[39;00m\n\u001b[1;32m   (...)\u001b[0m\n\u001b[0;32m   1260\u001b[0m \n\u001b[0;32m   1261\u001b[0m \u001b[38;5;124;03m\"\"\"\u001b[39;00m\n\u001b[0;32m   1262\u001b[0m \u001b[38;5;28;01mfrom\u001b[39;00m \u001b[38;5;21;01mgeopandas\u001b[39;00m\u001b[38;5;21;01m.\u001b[39;00m\u001b[38;5;21;01mio\u001b[39;00m\u001b[38;5;21;01m.\u001b[39;00m\u001b[38;5;21;01mfile\u001b[39;00m \u001b[38;5;28;01mimport\u001b[39;00m _to_file\n\u001b[1;32m-> 1264\u001b[0m _to_file(\u001b[38;5;28mself\u001b[39m, filename, driver, schema, index, \u001b[38;5;241m*\u001b[39m\u001b[38;5;241m*\u001b[39mkwargs)\n",
      "File \u001b[1;32mD:\\anaconda3\\envs\\Ciencia_De_Datos_Espaciales\\Lib\\site-packages\\geopandas\\io\\file.py:608\u001b[0m, in \u001b[0;36m_to_file\u001b[1;34m(df, filename, driver, schema, index, mode, crs, engine, **kwargs)\u001b[0m\n\u001b[0;32m    605\u001b[0m     \u001b[38;5;28;01mraise\u001b[39;00m \u001b[38;5;167;01mValueError\u001b[39;00m(\u001b[38;5;124mf\u001b[39m\u001b[38;5;124m\"\u001b[39m\u001b[38;5;124m'\u001b[39m\u001b[38;5;124mmode\u001b[39m\u001b[38;5;124m'\u001b[39m\u001b[38;5;124m should be one of \u001b[39m\u001b[38;5;124m'\u001b[39m\u001b[38;5;124mw\u001b[39m\u001b[38;5;124m'\u001b[39m\u001b[38;5;124m or \u001b[39m\u001b[38;5;124m'\u001b[39m\u001b[38;5;124ma\u001b[39m\u001b[38;5;124m'\u001b[39m\u001b[38;5;124m, got \u001b[39m\u001b[38;5;124m'\u001b[39m\u001b[38;5;132;01m{\u001b[39;00mmode\u001b[38;5;132;01m}\u001b[39;00m\u001b[38;5;124m'\u001b[39m\u001b[38;5;124m instead\u001b[39m\u001b[38;5;124m\"\u001b[39m)\n\u001b[0;32m    607\u001b[0m \u001b[38;5;28;01mif\u001b[39;00m engine \u001b[38;5;241m==\u001b[39m \u001b[38;5;124m\"\u001b[39m\u001b[38;5;124mfiona\u001b[39m\u001b[38;5;124m\"\u001b[39m:\n\u001b[1;32m--> 608\u001b[0m     _to_file_fiona(df, filename, driver, schema, crs, mode, \u001b[38;5;241m*\u001b[39m\u001b[38;5;241m*\u001b[39mkwargs)\n\u001b[0;32m    609\u001b[0m \u001b[38;5;28;01melif\u001b[39;00m engine \u001b[38;5;241m==\u001b[39m \u001b[38;5;124m\"\u001b[39m\u001b[38;5;124mpyogrio\u001b[39m\u001b[38;5;124m\"\u001b[39m:\n\u001b[0;32m    610\u001b[0m     _to_file_pyogrio(df, filename, driver, schema, crs, mode, \u001b[38;5;241m*\u001b[39m\u001b[38;5;241m*\u001b[39mkwargs)\n",
      "File \u001b[1;32mD:\\anaconda3\\envs\\Ciencia_De_Datos_Espaciales\\Lib\\site-packages\\geopandas\\io\\file.py:634\u001b[0m, in \u001b[0;36m_to_file_fiona\u001b[1;34m(df, filename, driver, schema, crs, mode, **kwargs)\u001b[0m\n\u001b[0;32m    632\u001b[0m \u001b[38;5;28;01melif\u001b[39;00m crs:\n\u001b[0;32m    633\u001b[0m     crs_wkt \u001b[38;5;241m=\u001b[39m crs\u001b[38;5;241m.\u001b[39mto_wkt(\u001b[38;5;124m\"\u001b[39m\u001b[38;5;124mWKT1_GDAL\u001b[39m\u001b[38;5;124m\"\u001b[39m)\n\u001b[1;32m--> 634\u001b[0m \u001b[38;5;28;01mwith\u001b[39;00m fiona\u001b[38;5;241m.\u001b[39mopen(\n\u001b[0;32m    635\u001b[0m     filename, mode\u001b[38;5;241m=\u001b[39mmode, driver\u001b[38;5;241m=\u001b[39mdriver, crs_wkt\u001b[38;5;241m=\u001b[39mcrs_wkt, schema\u001b[38;5;241m=\u001b[39mschema, \u001b[38;5;241m*\u001b[39m\u001b[38;5;241m*\u001b[39mkwargs\n\u001b[0;32m    636\u001b[0m ) \u001b[38;5;28;01mas\u001b[39;00m colxn:\n\u001b[0;32m    637\u001b[0m     colxn\u001b[38;5;241m.\u001b[39mwriterecords(df\u001b[38;5;241m.\u001b[39miterfeatures())\n",
      "File \u001b[1;32mD:\\anaconda3\\envs\\Ciencia_De_Datos_Espaciales\\Lib\\site-packages\\fiona\\env.py:457\u001b[0m, in \u001b[0;36mensure_env_with_credentials.<locals>.wrapper\u001b[1;34m(*args, **kwds)\u001b[0m\n\u001b[0;32m    454\u001b[0m     session \u001b[38;5;241m=\u001b[39m DummySession()\n\u001b[0;32m    456\u001b[0m \u001b[38;5;28;01mwith\u001b[39;00m env_ctor(session\u001b[38;5;241m=\u001b[39msession):\n\u001b[1;32m--> 457\u001b[0m     \u001b[38;5;28;01mreturn\u001b[39;00m f(\u001b[38;5;241m*\u001b[39margs, \u001b[38;5;241m*\u001b[39m\u001b[38;5;241m*\u001b[39mkwds)\n",
      "File \u001b[1;32mD:\\anaconda3\\envs\\Ciencia_De_Datos_Espaciales\\Lib\\site-packages\\fiona\\__init__.py:303\u001b[0m, in \u001b[0;36mopen\u001b[1;34m(fp, mode, driver, schema, crs, encoding, layer, vfs, enabled_drivers, crs_wkt, allow_unsupported_drivers, **kwargs)\u001b[0m\n\u001b[0;32m    292\u001b[0m     colxn \u001b[38;5;241m=\u001b[39m Collection(\n\u001b[0;32m    293\u001b[0m         path,\n\u001b[0;32m    294\u001b[0m         mode,\n\u001b[1;32m   (...)\u001b[0m\n\u001b[0;32m    300\u001b[0m         \u001b[38;5;241m*\u001b[39m\u001b[38;5;241m*\u001b[39mkwargs\n\u001b[0;32m    301\u001b[0m     )\n\u001b[0;32m    302\u001b[0m \u001b[38;5;28;01melif\u001b[39;00m mode \u001b[38;5;241m==\u001b[39m \u001b[38;5;124m\"\u001b[39m\u001b[38;5;124mw\u001b[39m\u001b[38;5;124m\"\u001b[39m:\n\u001b[1;32m--> 303\u001b[0m     colxn \u001b[38;5;241m=\u001b[39m Collection(\n\u001b[0;32m    304\u001b[0m         path,\n\u001b[0;32m    305\u001b[0m         mode,\n\u001b[0;32m    306\u001b[0m         crs\u001b[38;5;241m=\u001b[39mcrs,\n\u001b[0;32m    307\u001b[0m         driver\u001b[38;5;241m=\u001b[39mdriver,\n\u001b[0;32m    308\u001b[0m         schema\u001b[38;5;241m=\u001b[39mschema,\n\u001b[0;32m    309\u001b[0m         encoding\u001b[38;5;241m=\u001b[39mencoding,\n\u001b[0;32m    310\u001b[0m         layer\u001b[38;5;241m=\u001b[39mlayer,\n\u001b[0;32m    311\u001b[0m         enabled_drivers\u001b[38;5;241m=\u001b[39menabled_drivers,\n\u001b[0;32m    312\u001b[0m         crs_wkt\u001b[38;5;241m=\u001b[39mcrs_wkt,\n\u001b[0;32m    313\u001b[0m         allow_unsupported_drivers\u001b[38;5;241m=\u001b[39mallow_unsupported_drivers,\n\u001b[0;32m    314\u001b[0m         \u001b[38;5;241m*\u001b[39m\u001b[38;5;241m*\u001b[39mkwargs\n\u001b[0;32m    315\u001b[0m     )\n\u001b[0;32m    316\u001b[0m \u001b[38;5;28;01melse\u001b[39;00m:\n\u001b[0;32m    317\u001b[0m     \u001b[38;5;28;01mraise\u001b[39;00m \u001b[38;5;167;01mValueError\u001b[39;00m(\u001b[38;5;124m\"\u001b[39m\u001b[38;5;124mmode string must be one of \u001b[39m\u001b[38;5;124m{\u001b[39m\u001b[38;5;124m'\u001b[39m\u001b[38;5;124mr\u001b[39m\u001b[38;5;124m'\u001b[39m\u001b[38;5;124m, \u001b[39m\u001b[38;5;124m'\u001b[39m\u001b[38;5;124mw\u001b[39m\u001b[38;5;124m'\u001b[39m\u001b[38;5;124m, \u001b[39m\u001b[38;5;124m'\u001b[39m\u001b[38;5;124ma\u001b[39m\u001b[38;5;124m'\u001b[39m\u001b[38;5;124m}\u001b[39m\u001b[38;5;124m\"\u001b[39m)\n",
      "File \u001b[1;32mD:\\anaconda3\\envs\\Ciencia_De_Datos_Espaciales\\Lib\\site-packages\\fiona\\collection.py:246\u001b[0m, in \u001b[0;36mCollection.__init__\u001b[1;34m(self, path, mode, driver, schema, crs, encoding, layer, vsi, archive, enabled_drivers, crs_wkt, ignore_fields, ignore_geometry, include_fields, wkt_version, allow_unsupported_drivers, **kwargs)\u001b[0m\n\u001b[0;32m    244\u001b[0m     \u001b[38;5;28;01melif\u001b[39;00m \u001b[38;5;28mself\u001b[39m\u001b[38;5;241m.\u001b[39mmode \u001b[38;5;129;01min\u001b[39;00m (\u001b[38;5;124m\"\u001b[39m\u001b[38;5;124ma\u001b[39m\u001b[38;5;124m\"\u001b[39m, \u001b[38;5;124m\"\u001b[39m\u001b[38;5;124mw\u001b[39m\u001b[38;5;124m\"\u001b[39m):\n\u001b[0;32m    245\u001b[0m         \u001b[38;5;28mself\u001b[39m\u001b[38;5;241m.\u001b[39msession \u001b[38;5;241m=\u001b[39m WritingSession()\n\u001b[1;32m--> 246\u001b[0m         \u001b[38;5;28mself\u001b[39m\u001b[38;5;241m.\u001b[39msession\u001b[38;5;241m.\u001b[39mstart(\u001b[38;5;28mself\u001b[39m, \u001b[38;5;241m*\u001b[39m\u001b[38;5;241m*\u001b[39mkwargs)\n\u001b[0;32m    247\u001b[0m \u001b[38;5;28;01mexcept\u001b[39;00m \u001b[38;5;167;01mOSError\u001b[39;00m:\n\u001b[0;32m    248\u001b[0m     \u001b[38;5;28mself\u001b[39m\u001b[38;5;241m.\u001b[39msession \u001b[38;5;241m=\u001b[39m \u001b[38;5;28;01mNone\u001b[39;00m\n",
      "File \u001b[1;32mfiona\\\\ogrext.pyx:1110\u001b[0m, in \u001b[0;36mfiona.ogrext.WritingSession.start\u001b[1;34m()\u001b[0m\n",
      "File \u001b[1;32mfiona\\\\ogrext.pyx:1111\u001b[0m, in \u001b[0;36mfiona.ogrext.WritingSession.start\u001b[1;34m()\u001b[0m\n",
      "File \u001b[1;32mfiona\\\\ogrext.pyx:179\u001b[0m, in \u001b[0;36mfiona.ogrext.gdal_create\u001b[1;34m()\u001b[0m\n",
      "\u001b[1;31mDriverError\u001b[0m: sqlite3_open(maps\\China_3415\\China3415_Maps.gpkg) failed: unable to open database file"
     ]
    }
   ],
   "source": [
    "China3415_NuclearPowerPlants = China3415_PowerPlants[China3415_PowerPlants.primary_fuel==\"Nuclear\"]\n",
    "China3415_NuclearPowerPlants = China3415_NuclearPowerPlants.rename(columns={\"name\":\"NuclearPowerPlant_Name\"})\n",
    "China3415_NuclearPowerPlants = China3415_NuclearPowerPlants.reset_index()\n",
    "China3415_NuclearPowerPlants.drop(columns=\"index\",inplace=True)\n",
    "\n",
    "China3415_NuclearPowerPlants.to_file(os.path.join(\"maps\",\"China_3415\",\"China3415_Maps.gpkg\"), layer=\"NuclearPower_Plants\", driver=\"GPKG\",index=\"\")"
   ]
  },
  {
   "cell_type": "markdown",
   "id": "563274a9",
   "metadata": {},
   "source": [
    "- Mapa de China: [World_Countries](https://www.efrainmaps.es/english-version/free-downloads/world/)\n",
    "\n",
    "- Ríos en China: [World_Hydrography](https://www.efrainmaps.es/english-version/free-downloads/world/)"
   ]
  },
  {
   "cell_type": "code",
   "execution_count": 46,
   "id": "fa873f91",
   "metadata": {},
   "outputs": [],
   "source": [
    "#Mapa de China\n",
    "countries = gpd.read_file(\"https://github.com/Ciencia-de-datos-espaciales-2023-2/Evaluacion4_1ra-Parte_Mining_GeoDFs/raw/main/maps/World_Countries/World_Countries.shp\")\n",
    "China = countries[countries.COUNTRY=='China']\n",
    "China3415_country = China.to_crs(3415)\n",
    "China3415_country = China3415_country.reset_index()\n",
    "China3415_country.drop(columns=\"index\",inplace=True)\n",
    "China3415_country.to_file(os.path.join(\"maps\",\"China3415\",\"China3415_Maps.gpkg\"), layer=\"Country\", driver=\"GPKG\",index=\"\")\n",
    "\n",
    "#Mapa de ríos en el mundo\n",
    "Riverslink = \"https://github.com/Ciencia-de-datos-espaciales-2023-2/Evaluacion4_1ra-Parte_Mining_GeoDFs/raw/main/maps/World_Hydrography/World_Hydrography.shp\"\n",
    "Rivers = gpd.read_file(Riverslink)\n",
    "Rivers3415 = Rivers.to_crs(3415)\n",
    "\n",
    "#Recortar los ríos para que solo se encuentren los que encierran a China\n",
    "China3415_Rivers = gpd.clip(gdf = Rivers3415, mask = China3415_country)\n",
    "China3415_Rivers = China3415_Rivers.reset_index()\n",
    "China3415_Rivers.drop(columns=\"index\",inplace=True)\n",
    "China3415_Rivers = China3415_Rivers.rename(columns={\"NAME\":\"River_Name\"})\n",
    "China3415_Rivers = China3415_Rivers.rename(columns={\"NAME\":\"River_Name\", \"SYSTEM\":\"System\"})\n",
    "China3415_Rivers.replace({None:\"None\"}, inplace = True)\n",
    "\n",
    "China3415_Rivers.to_file(os.path.join(\"maps\",\"China3415\",\"China3415_Maps.gpkg\"), layer=\"Rivers\", driver=\"GPKG\",index=\"\")"
   ]
  },
  {
   "cell_type": "code",
   "execution_count": 47,
   "id": "e31b640b",
   "metadata": {},
   "outputs": [
    {
     "data": {
      "text/plain": [
       "['SolarPower_Plants',\n",
       " 'WindPower_Plants',\n",
       " 'NuclearPower_Plants',\n",
       " 'Country',\n",
       " 'Major_Rivers']"
      ]
     },
     "execution_count": 47,
     "metadata": {},
     "output_type": "execute_result"
    }
   ],
   "source": [
    "China3415 = \"https://github.com/Ciencia-de-datos-espaciales-2023-2/Evaluacion4_1ra-Parte_Mining_GeoDFs/raw/main/maps/China3415/China3415_Maps.gpkg\"\n",
    "from fiona import listlayers\n",
    "listlayers(China3415)"
   ]
  },
  {
   "cell_type": "markdown",
   "id": "fb3be805",
   "metadata": {},
   "source": [
    "## Ejercicio 3\n",
    "\n",
    "<div class=\"alert-success\">\n",
    "    \n",
    "1. Create a set of points and a set of polygons\n",
    "\n",
    "2. Compute the distance matrix for both sets.\n",
    "\n",
    "3. Select one polygon of the distance matrix, and plot the closests and the farthest point to that polygon.\n",
    "</div>   "
   ]
  },
  {
   "cell_type": "markdown",
   "id": "39d0e499",
   "metadata": {},
   "source": [
    "Conjunto de polígonos: Convex hulls de ríos acorde al sistema al que pertenecen. Los que no forman parte de un sistema de ríos, se han engoblado en un mismo convex hull."
   ]
  },
  {
   "cell_type": "code",
   "execution_count": 11,
   "id": "51bb506f",
   "metadata": {},
   "outputs": [],
   "source": [
    "#GeoDataFrame, agrupando por ríos\n",
    "China3415_RiverSystems = China3415_MajorRivers.dissolve(by=\"System\")\n",
    "China3415_RiverSystems = China3415_RiverSystems.drop(columns = [\"River_Name\",\"MILES\",\"KILOMETERS\"])\n",
    "China3415_RiverSystems = China3415_RiverSystems.reset_index()\n",
    "China3415_RiverSystems.to_file(os.path.join(\"maps\",\"China3415\",\"China3415_Maps.gpkg\"), layer='RiverSystems', driver=\"GPKG\",index=\"\")\n",
    "\n",
    "#Convertir a convex hull y luego a un GeoDataFrame con polígonos\n",
    "China3415_RiverSystems_hulls = China3415_RiverSystems.convex_hull.to_frame()\n",
    "China3415_RiverSystems_hulls.rename(columns = {0:\"geometry\"}, inplace = True)\n",
    "China3415_RiverSystems_hulls = China3415_RiverSystems_hulls.set_geometry(\"geometry\")\n",
    "China3415_RiverSystems_hulls = China3415_RiverSystems.reset_index()\n",
    "China3415_RiverSystems_hulls\n",
    "\n",
    "China3415_RiverSystems_hulls.to_file(os.path.join(\"maps\",\"China3415\",\"China3415_Maps.gpkg\"), layer='RiverSystems_hulls', driver=\"GPKG\",index=\"\")"
   ]
  },
  {
   "cell_type": "markdown",
   "id": "f30ee4d6",
   "metadata": {},
   "source": [
    "Conjunto de puntos: Plantas de energía nuclear en China"
   ]
  },
  {
   "cell_type": "markdown",
   "id": "9580d337",
   "metadata": {},
   "source": [
    "## Ejercicio 4\n",
    "\n",
    "<div class=\"alert-success\">\n",
    "    \n",
    "1. Create a set of points and a set of lines\n",
    "\n",
    "2. Get the buffer for the lines, select different values for the distance. Jugar con varias distancias, pero solo colocar una que tenga resultados interesantes en el notebook final.\n",
    "\n",
    "3. Keep the points that are within the buffer (as in point 2, you need to play with differn distances until you show something interesting. Todos los puntos que están dentro del buffer creado para la línea.\n",
    "   \n",
    "\n",
    "</div>   "
   ]
  },
  {
   "cell_type": "markdown",
   "id": "e1b10ec1",
   "metadata": {},
   "source": [
    "- Set de puntos: China3415_NuclearPowerPlants\n",
    "- Set de líneas: China3415_RiverSystems"
   ]
  }
 ],
 "metadata": {
  "kernelspec": {
   "display_name": "Python 3 (ipykernel)",
   "language": "python",
   "name": "python3"
  },
  "language_info": {
   "codemirror_mode": {
    "name": "ipython",
    "version": 3
   },
   "file_extension": ".py",
   "mimetype": "text/x-python",
   "name": "python",
   "nbconvert_exporter": "python",
   "pygments_lexer": "ipython3",
   "version": "3.11.5"
  }
 },
 "nbformat": 4,
 "nbformat_minor": 5
}
