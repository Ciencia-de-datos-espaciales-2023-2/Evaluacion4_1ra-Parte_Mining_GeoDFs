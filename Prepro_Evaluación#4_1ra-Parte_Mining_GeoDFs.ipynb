{
 "cells": [
  {
   "cell_type": "markdown",
   "id": "ec4a2552",
   "metadata": {},
   "source": [
    "# Preprocesamiento de datos\n",
    "\n",
    "## Ejercicios: Parte I\n",
    "\n",
    "<div class=\"alert-warning\">\n",
    "    \n",
    "Indicaciones: Los ejercicios 1, 2, 3 y 4 deben leer su data de links en Github y el código y los resultados deben ser publicados en páginas en Github.\n",
    "\n",
    "</div>"
   ]
  },
  {
   "cell_type": "markdown",
   "id": "d4226891",
   "metadata": {},
   "source": [
    "## Ejercicio 1\n",
    "\n",
    "<div class=\"alert-success\">\n",
    "    \n",
    "1. Use two maps of points.\n",
    "\n",
    "2. Compute the distance matrix for both maps.\n",
    "\n",
    "3. Select one row of the distance matrix, and plot the two points with the minimal distance on top of the country of your choosing. (distancia entre punto a punto)\n",
    "</div>"
   ]
  },
  {
   "cell_type": "markdown",
   "id": "c4efa971",
   "metadata": {},
   "source": [
    "Mapas de puntos: Plantas de energía solar y eólica en China\n",
    "\n",
    "Fuente: [Global Power Plant Database](https://datasets.wri.org/dataset/globalpowerplantdatabase)"
   ]
  },
  {
   "cell_type": "code",
   "execution_count": 86,
   "id": "9c793ae3",
   "metadata": {},
   "outputs": [],
   "source": [
    "import pandas as pd\n",
    "import geopandas as gpd\n",
    "import os\n",
    "\n",
    "PowerPlants = pd.read_csv(\"https://github.com/Ciencia-de-datos-espaciales-2023-2/Evaluacion4_1ra-Parte_Mining_GeoDFs/raw/main/data/global_power_plant_database.csv\", dtype={'other_fuel3': 'object'})\n",
    "\n",
    "China_PowerPlants = PowerPlants[PowerPlants[\"country\"]==\"CHN\"]\n",
    "China_PowerPlants = China_PowerPlants.loc[:,[\"name\",\"gppd_idnr\",\"capacity_mw\",\"latitude\",\"longitude\",\"primary_fuel\"]]\n",
    "China_PowerPlants.reset_index(drop=True, inplace=True)\n",
    "\n",
    "#Dataframe a GeoDataframe:\n",
    "China_PowerPlants_gpd = gpd.GeoDataFrame(data=China_PowerPlants.copy(),\n",
    "                                        geometry=gpd.points_from_xy(x=China_PowerPlants.longitude,\n",
    "                                        y=China_PowerPlants.latitude),\n",
    "                                        crs=4326)\n",
    "\n",
    "#Cambiando los CRSs por unos proyectados y que coincidan con los de China3415:\n",
    "China3415_PowerPlants = China_PowerPlants_gpd.to_crs(3415)\n",
    "\n",
    "#Mapas de puntos: Plantas de energía solar y eólica\n",
    "China3415_SolarPowerPlants = China3415_PowerPlants[China3415_PowerPlants.primary_fuel==\"Solar\"]\n",
    "China3415_SolarPowerPlants = China3415_SolarPowerPlants.rename(columns={\"name\":\"SolarPowerPlant_Name\"})\n",
    "China3415_SolarPowerPlants = China3415_SolarPowerPlants.reset_index()\n",
    "China3415_SolarPowerPlants.drop(columns=\"index\",inplace=True)\n",
    "\n",
    "\n",
    "China3415_WindPowerPlants = China3415_PowerPlants[China3415_PowerPlants.primary_fuel==\"Wind\"]\n",
    "China3415_WindPowerPlants = China3415_WindPowerPlants.rename(columns={\"name\":\"WindPowerPlant_Name\"})\n",
    "China3415_WindPowerPlants = China3415_WindPowerPlants.reset_index()\n",
    "China3415_WindPowerPlants.drop(columns=\"index\",inplace=True)\n",
    "\n",
    "\n",
    "# Geopackage con los 2 mapas de puntos:\n",
    "China3415_SolarPowerPlants.to_file(os.path.join(\"maps\",\"China_3415\",\"China3415_PowerPlants.gpkg\"), layer=\"SolarPower_Plants\", driver=\"GPKG\",index=\"\")\n",
    "China3415_WindPowerPlants.to_file(os.path.join(\"maps\",\"China_3415\",\"China3415_PowerPlants.gpkg\"), layer=\"WindPower_Plants\", driver=\"GPKG\",index=\"\")"
   ]
  },
  {
   "cell_type": "markdown",
   "id": "456ed80b",
   "metadata": {},
   "source": [
    "## Ejercicio 2\n",
    "\n",
    "<div class=\"alert-success\">\n",
    "    \n",
    "1. Use a map of points and a map of lines.\n",
    "\n",
    "2. Compute the distance matrix for both maps.\n",
    "\n",
    "3. Select one line of the distance matrix, and plot the closests and the farthest point to that line. (Se puede seleccionar un río o un sistema y calcular el punto más cercano o lejano a la línea. Si se escoge un punto, se calcula la línea más cercana y lejana)\n",
    "    \n",
    "    \n",
    "</div>"
   ]
  },
  {
   "cell_type": "markdown",
   "id": "e8fe95db",
   "metadata": {},
   "source": [
    "Plantas de energía nuclear en China:"
   ]
  },
  {
   "cell_type": "code",
   "execution_count": 87,
   "id": "64902daa",
   "metadata": {},
   "outputs": [],
   "source": [
    "China3415_NuclearPowerPlants = China3415_PowerPlants[China3415_PowerPlants.primary_fuel==\"Nuclear\"]\n",
    "China3415_NuclearPowerPlants = China3415_NuclearPowerPlants.rename(columns={\"name\":\"NuclearPowerPlant_Name\"})\n",
    "China3415_NuclearPowerPlants = China3415_NuclearPowerPlants.reset_index()\n",
    "China3415_NuclearPowerPlants.drop(columns=\"index\",inplace=True)\n",
    "\n",
    "China3415_NuclearPowerPlants.to_file(os.path.join(\"maps\",\"China_3415\",\"China3415_PowerPlants.gpkg\"), layer=\"NuclearPower_Plants\", driver=\"GPKG\",index=\"\")"
   ]
  },
  {
   "cell_type": "markdown",
   "id": "563274a9",
   "metadata": {},
   "source": [
    "- Mapa de China: [World_Countries](https://www.efrainmaps.es/english-version/free-downloads/world/)\n",
    "\n",
    "- Ríos en China: [World_Hydrography](https://www.efrainmaps.es/english-version/free-downloads/world/)"
   ]
  },
  {
   "cell_type": "code",
   "execution_count": null,
   "id": "fa873f91",
   "metadata": {},
   "outputs": [],
   "source": [
    "#Mapa de China\n",
    "countries = gpd.read_file(\"https://github.com/Ciencia-de-datos-espaciales-2023-2/Evaluacion4_1ra-Parte_Mining_GeoDFs/raw/main/maps/World_Countries/World_Countries.shp\")\n",
    "China = countries[countries.COUNTRY=='China']\n",
    "China3415_country = China.to_crs(3415)\n",
    "China3415_country = China3415_country.reset_index()\n",
    "China3415_country.drop(columns=\"index\",inplace=True)\n",
    "China3415_country.to_file(os.path.join(\"maps\",\"China_3415\",\"China3415_maps.gpkg\"), layer=\"Country\", driver=\"GPKG\",index=\"\")\n",
    "\n",
    "#Mapa de ríos en el mundo\n",
    "Riverslink = \"https://github.com/Ciencia-de-datos-espaciales-2023-2/Evaluacion4_1ra-Parte_Mining_GeoDFs/raw/main/maps/World_Hydrography/World_Hydrography.shp\"\n",
    "Rivers = gpd.read_file(Riverslink)\n",
    "Rivers3415 = Rivers.to_crs(3415)\n",
    "\n",
    "#Recortar los ríos para que solo se encuentren los que encierran a China\n",
    "China3415_Rivers = gpd.clip(gdf = Rivers3415, mask = China3415_country)\n",
    "China3415_Rivers = China3415_Rivers.reset_index()\n",
    "China3415_Rivers.drop(columns=\"index\",inplace=True)\n",
    "China3415_Rivers = China3415_Rivers.rename(columns={\"NAME\":\"River_Name\"})\n",
    "China3415_Rivers = China3415_Rivers.rename(columns={\"NAME\":\"River_Name\", \"SYSTEM\":\"System\"})\n",
    "China3415_Rivers.replace({None:\"None\"}, inplace = True)\n",
    "\n",
    "China3415_Rivers.to_file(os.path.join(\"maps\",\"China_3415\",\"China3415_maps.gpkg\"), layer=\"Rivers\", driver=\"GPKG\",index=\"\")"
   ]
  },
  {
   "cell_type": "code",
   "execution_count": 91,
   "id": "e31b640b",
   "metadata": {},
   "outputs": [
    {
     "ename": "DriverError",
     "evalue": "'/vsicurl/https://github.com/Ciencia-de-datos-espaciales-2023-2/Evaluacion4_1ra-Parte_Mining_GeoDFs/raw/main/maps/China_3415/China3415_maps.gpkg' does not exist in the file system, and is not recognized as a supported dataset name.",
     "output_type": "error",
     "traceback": [
      "\u001b[1;31m---------------------------------------------------------------------------\u001b[0m",
      "\u001b[1;31mCPLE_OpenFailedError\u001b[0m                      Traceback (most recent call last)",
      "File \u001b[1;32mfiona\\\\ogrext.pyx:136\u001b[0m, in \u001b[0;36mfiona.ogrext.gdal_open_vector\u001b[1;34m()\u001b[0m\n",
      "File \u001b[1;32mfiona\\\\_err.pyx:291\u001b[0m, in \u001b[0;36mfiona._err.exc_wrap_pointer\u001b[1;34m()\u001b[0m\n",
      "\u001b[1;31mCPLE_OpenFailedError\u001b[0m: '/vsicurl/https://github.com/Ciencia-de-datos-espaciales-2023-2/Evaluacion4_1ra-Parte_Mining_GeoDFs/raw/main/maps/China_3415/China3415_maps.gpkg' does not exist in the file system, and is not recognized as a supported dataset name.",
      "\nDuring handling of the above exception, another exception occurred:\n",
      "\u001b[1;31mDriverError\u001b[0m                               Traceback (most recent call last)",
      "Cell \u001b[1;32mIn[91], line 3\u001b[0m\n\u001b[0;32m      1\u001b[0m China3415 \u001b[38;5;241m=\u001b[39m \u001b[38;5;124m\"\u001b[39m\u001b[38;5;124mhttps://github.com/Ciencia-de-datos-espaciales-2023-2/Evaluacion4_1ra-Parte_Mining_GeoDFs/raw/main/maps/China_3415/China3415_maps.gpkg\u001b[39m\u001b[38;5;124m\"\u001b[39m\n\u001b[0;32m      2\u001b[0m \u001b[38;5;28;01mfrom\u001b[39;00m \u001b[38;5;21;01mfiona\u001b[39;00m \u001b[38;5;28;01mimport\u001b[39;00m listlayers\n\u001b[1;32m----> 3\u001b[0m listlayers(China3415)\n",
      "File \u001b[1;32mD:\\anaconda3\\envs\\Ciencia_De_Datos_Espaciales\\Lib\\site-packages\\fiona\\env.py:457\u001b[0m, in \u001b[0;36mensure_env_with_credentials.<locals>.wrapper\u001b[1;34m(*args, **kwds)\u001b[0m\n\u001b[0;32m    454\u001b[0m     session \u001b[38;5;241m=\u001b[39m DummySession()\n\u001b[0;32m    456\u001b[0m \u001b[38;5;28;01mwith\u001b[39;00m env_ctor(session\u001b[38;5;241m=\u001b[39msession):\n\u001b[1;32m--> 457\u001b[0m     \u001b[38;5;28;01mreturn\u001b[39;00m f(\u001b[38;5;241m*\u001b[39margs, \u001b[38;5;241m*\u001b[39m\u001b[38;5;241m*\u001b[39mkwds)\n",
      "File \u001b[1;32mD:\\anaconda3\\envs\\Ciencia_De_Datos_Espaciales\\Lib\\site-packages\\fiona\\__init__.py:451\u001b[0m, in \u001b[0;36mlistlayers\u001b[1;34m(fp, vfs, **kwargs)\u001b[0m\n\u001b[0;32m    448\u001b[0m \u001b[38;5;28;01melse\u001b[39;00m:\n\u001b[0;32m    449\u001b[0m     pobj \u001b[38;5;241m=\u001b[39m parse_path(fp)\n\u001b[1;32m--> 451\u001b[0m \u001b[38;5;28;01mreturn\u001b[39;00m _listlayers(vsi_path(pobj), \u001b[38;5;241m*\u001b[39m\u001b[38;5;241m*\u001b[39mkwargs)\n",
      "File \u001b[1;32mfiona\\\\ogrext.pyx:1885\u001b[0m, in \u001b[0;36mfiona.ogrext._listlayers\u001b[1;34m()\u001b[0m\n",
      "File \u001b[1;32mfiona\\\\ogrext.pyx:143\u001b[0m, in \u001b[0;36mfiona.ogrext.gdal_open_vector\u001b[1;34m()\u001b[0m\n",
      "\u001b[1;31mDriverError\u001b[0m: '/vsicurl/https://github.com/Ciencia-de-datos-espaciales-2023-2/Evaluacion4_1ra-Parte_Mining_GeoDFs/raw/main/maps/China_3415/China3415_maps.gpkg' does not exist in the file system, and is not recognized as a supported dataset name."
     ]
    }
   ],
   "source": [
    "China3415 = \"https://github.com/Ciencia-de-datos-espaciales-2023-2/Evaluacion4_1ra-Parte_Mining_GeoDFs/raw/main/maps/China_3415/China3415_maps.gpkg\"\n",
    "from fiona import listlayers\n",
    "listlayers(China3415)"
   ]
  },
  {
   "cell_type": "code",
   "execution_count": null,
   "id": "165a7c2d",
   "metadata": {},
   "outputs": [],
   "source": []
  },
  {
   "cell_type": "markdown",
   "id": "fb3be805",
   "metadata": {},
   "source": [
    "## Ejercicio 3\n",
    "\n",
    "<div class=\"alert-success\">\n",
    "    \n",
    "1. Create a set of points and a set of polygons\n",
    "\n",
    "2. Compute the distance matrix for both sets.\n",
    "\n",
    "3. Select one polygon of the distance matrix, and plot the closests and the farthest point to that polygon.\n",
    "</div>   "
   ]
  },
  {
   "cell_type": "markdown",
   "id": "39d0e499",
   "metadata": {},
   "source": [
    "Conjunto de polígonos: Convex hulls de ríos acorde al sistema al que pertenecen. Los que no forman parte de un sistema de ríos, se han engoblado en un mismo convex hull."
   ]
  },
  {
   "cell_type": "code",
   "execution_count": 11,
   "id": "51bb506f",
   "metadata": {},
   "outputs": [],
   "source": [
    "#GeoDataFrame, agrupando por ríos\n",
    "China3415_RiverSystems = China3415_MajorRivers.dissolve(by=\"System\")\n",
    "China3415_RiverSystems = China3415_RiverSystems.drop(columns = [\"River_Name\",\"MILES\",\"KILOMETERS\"])\n",
    "China3415_RiverSystems = China3415_RiverSystems.reset_index()\n",
    "China3415_RiverSystems.to_file(os.path.join(\"maps\",\"China3415\",\"China3415_Maps.gpkg\"), layer='RiverSystems', driver=\"GPKG\",index=\"\")\n",
    "\n",
    "#Convertir a convex hull y luego a un GeoDataFrame con polígonos\n",
    "China3415_RiverSystems_hulls = China3415_RiverSystems.convex_hull.to_frame()\n",
    "China3415_RiverSystems_hulls.rename(columns = {0:\"geometry\"}, inplace = True)\n",
    "China3415_RiverSystems_hulls = China3415_RiverSystems_hulls.set_geometry(\"geometry\")\n",
    "China3415_RiverSystems_hulls = China3415_RiverSystems.reset_index()\n",
    "China3415_RiverSystems_hulls\n",
    "\n",
    "China3415_RiverSystems_hulls.to_file(os.path.join(\"maps\",\"China3415\",\"China3415_Maps.gpkg\"), layer='RiverSystems_hulls', driver=\"GPKG\",index=\"\")"
   ]
  },
  {
   "cell_type": "markdown",
   "id": "f30ee4d6",
   "metadata": {},
   "source": [
    "Conjunto de puntos: Plantas de energía nuclear en China"
   ]
  },
  {
   "cell_type": "markdown",
   "id": "9580d337",
   "metadata": {},
   "source": [
    "## Ejercicio 4\n",
    "\n",
    "<div class=\"alert-success\">\n",
    "    \n",
    "1. Create a set of points and a set of lines\n",
    "\n",
    "2. Get the buffer for the lines, select different values for the distance. Jugar con varias distancias, pero solo colocar una que tenga resultados interesantes en el notebook final.\n",
    "\n",
    "3. Keep the points that are within the buffer (as in point 2, you need to play with differn distances until you show something interesting. Todos los puntos que están dentro del buffer creado para la línea.\n",
    "   \n",
    "\n",
    "</div>   "
   ]
  },
  {
   "cell_type": "markdown",
   "id": "e1b10ec1",
   "metadata": {},
   "source": [
    "- Set de puntos: China3415_NuclearPowerPlants\n",
    "- Set de líneas: China3415_RiverSystems"
   ]
  }
 ],
 "metadata": {
  "kernelspec": {
   "display_name": "Python 3 (ipykernel)",
   "language": "python",
   "name": "python3"
  },
  "language_info": {
   "codemirror_mode": {
    "name": "ipython",
    "version": 3
   },
   "file_extension": ".py",
   "mimetype": "text/x-python",
   "name": "python",
   "nbconvert_exporter": "python",
   "pygments_lexer": "ipython3",
   "version": "3.11.5"
  }
 },
 "nbformat": 4,
 "nbformat_minor": 5
}
