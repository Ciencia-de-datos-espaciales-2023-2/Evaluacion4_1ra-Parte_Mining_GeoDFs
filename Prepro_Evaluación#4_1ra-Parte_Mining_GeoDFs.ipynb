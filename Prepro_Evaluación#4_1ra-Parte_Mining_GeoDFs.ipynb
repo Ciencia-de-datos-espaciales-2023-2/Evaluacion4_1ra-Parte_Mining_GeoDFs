{
 "cells": [
  {
   "cell_type": "markdown",
   "id": "ec4a2552",
   "metadata": {},
   "source": [
    "# Preprocesamiento de datos\n",
    "\n",
    "## Ejercicios: Parte I\n",
    "\n",
    "<div class=\"alert-warning\">\n",
    "    \n",
    "Indicaciones: Los ejercicios 1, 2, 3 y 4 deben leer su data de links en Github y el código y los resultados deben ser publicados en páginas en Github.\n",
    "\n",
    "</div>"
   ]
  },
  {
   "cell_type": "markdown",
   "id": "d4226891",
   "metadata": {},
   "source": [
    "## Ejercicio 1\n",
    "\n",
    "<div class=\"alert-success\">\n",
    "    \n",
    "1. Use two maps of points.\n",
    "\n",
    "2. Compute the distance matrix for both maps.\n",
    "\n",
    "3. Select one row of the distance matrix, and plot the two points with the minimal distance on top of the country of your choosing. (distancia entre punto a punto)\n",
    "</div>"
   ]
  },
  {
   "cell_type": "markdown",
   "id": "c4efa971",
   "metadata": {},
   "source": [
    "Mapas de puntos: Plantas de energía solar y eólica en China\n",
    "\n",
    "Fuente: [Global Power Plant Database](https://datasets.wri.org/dataset/globalpowerplantdatabase)"
   ]
  },
  {
   "cell_type": "code",
   "execution_count": 86,
   "id": "9c793ae3",
   "metadata": {},
   "outputs": [],
   "source": [
    "import pandas as pd\n",
    "import geopandas as gpd\n",
    "import os\n",
    "\n",
    "PowerPlants = pd.read_csv(\"https://github.com/Ciencia-de-datos-espaciales-2023-2/Evaluacion4_1ra-Parte_Mining_GeoDFs/raw/main/data/global_power_plant_database.csv\", dtype={'other_fuel3': 'object'})\n",
    "\n",
    "China_PowerPlants = PowerPlants[PowerPlants[\"country\"]==\"CHN\"]\n",
    "China_PowerPlants = China_PowerPlants.loc[:,[\"name\",\"gppd_idnr\",\"capacity_mw\",\"latitude\",\"longitude\",\"primary_fuel\"]]\n",
    "China_PowerPlants.reset_index(drop=True, inplace=True)\n",
    "\n",
    "#Dataframe a GeoDataframe:\n",
    "China_PowerPlants_gpd = gpd.GeoDataFrame(data=China_PowerPlants.copy(),\n",
    "                                        geometry=gpd.points_from_xy(x=China_PowerPlants.longitude,\n",
    "                                        y=China_PowerPlants.latitude),\n",
    "                                        crs=4326)\n",
    "\n",
    "#Cambiando los CRSs por unos proyectados y que coincidan con los de China3415:\n",
    "China3415_PowerPlants = China_PowerPlants_gpd.to_crs(3415)\n",
    "\n",
    "#Mapas de puntos: Plantas de energía solar y eólica\n",
    "China3415_SolarPowerPlants = China3415_PowerPlants[China3415_PowerPlants.primary_fuel==\"Solar\"]\n",
    "China3415_SolarPowerPlants = China3415_SolarPowerPlants.rename(columns={\"name\":\"SolarPowerPlant_Name\"})\n",
    "China3415_SolarPowerPlants = China3415_SolarPowerPlants.reset_index()\n",
    "China3415_SolarPowerPlants.drop(columns=\"index\",inplace=True)\n",
    "\n",
    "\n",
    "China3415_WindPowerPlants = China3415_PowerPlants[China3415_PowerPlants.primary_fuel==\"Wind\"]\n",
    "China3415_WindPowerPlants = China3415_WindPowerPlants.rename(columns={\"name\":\"WindPowerPlant_Name\"})\n",
    "China3415_WindPowerPlants = China3415_WindPowerPlants.reset_index()\n",
    "China3415_WindPowerPlants.drop(columns=\"index\",inplace=True)\n",
    "\n",
    "\n",
    "# Geopackage con los 2 mapas de puntos:\n",
    "China3415_SolarPowerPlants.to_file(os.path.join(\"maps\",\"China_3415\",\"China3415_PowerPlants.gpkg\"), layer=\"SolarPower_Plants\", driver=\"GPKG\",index=\"\")\n",
    "China3415_WindPowerPlants.to_file(os.path.join(\"maps\",\"China_3415\",\"China3415_PowerPlants.gpkg\"), layer=\"WindPower_Plants\", driver=\"GPKG\",index=\"\")"
   ]
  },
  {
   "cell_type": "markdown",
   "id": "456ed80b",
   "metadata": {},
   "source": [
    "## Ejercicio 2\n",
    "\n",
    "<div class=\"alert-success\">\n",
    "    \n",
    "1. Use a map of points and a map of lines.\n",
    "\n",
    "2. Compute the distance matrix for both maps.\n",
    "\n",
    "3. Select one line of the distance matrix, and plot the closests and the farthest point to that line. (Se puede seleccionar un río o un sistema y calcular el punto más cercano o lejano a la línea. Si se escoge un punto, se calcula la línea más cercana y lejana)\n",
    "    \n",
    "    \n",
    "</div>"
   ]
  },
  {
   "cell_type": "markdown",
   "id": "e8fe95db",
   "metadata": {},
   "source": [
    "Plantas de energía nuclear en China:"
   ]
  },
  {
   "cell_type": "code",
   "execution_count": 87,
   "id": "64902daa",
   "metadata": {},
   "outputs": [],
   "source": [
    "China3415_NuclearPowerPlants = China3415_PowerPlants[China3415_PowerPlants.primary_fuel==\"Nuclear\"]\n",
    "China3415_NuclearPowerPlants = China3415_NuclearPowerPlants.rename(columns={\"name\":\"NuclearPowerPlant_Name\"})\n",
    "China3415_NuclearPowerPlants = China3415_NuclearPowerPlants.reset_index()\n",
    "China3415_NuclearPowerPlants.drop(columns=\"index\",inplace=True)\n",
    "\n",
    "China3415_NuclearPowerPlants.to_file(os.path.join(\"maps\",\"China_3415\",\"China3415_PowerPlants.gpkg\"), layer=\"NuclearPower_Plants\", driver=\"GPKG\",index=\"\")"
   ]
  },
  {
   "cell_type": "markdown",
   "id": "563274a9",
   "metadata": {},
   "source": [
    "- Mapa de China: [World_Countries](https://www.efrainmaps.es/english-version/free-downloads/world/)\n",
    "\n",
    "- Ríos en China: [World_Hydrography](https://www.efrainmaps.es/english-version/free-downloads/world/)"
   ]
  },
  {
   "cell_type": "code",
   "execution_count": 92,
   "id": "fa873f91",
   "metadata": {},
   "outputs": [],
   "source": [
    "#Mapa de China\n",
    "countries = gpd.read_file(\"https://github.com/Ciencia-de-datos-espaciales-2023-2/Evaluacion4_1ra-Parte_Mining_GeoDFs/raw/main/maps/World_Countries/World_Countries.shp\")\n",
    "China = countries[countries.COUNTRY=='China']\n",
    "China3415_country = China.to_crs(3415)\n",
    "China3415_country = China3415_country.reset_index()\n",
    "China3415_country.drop(columns=\"index\",inplace=True)\n",
    "China3415_country.to_file(os.path.join(\"maps\",\"China_3415\",\"China3415_maps.gpkg\"), layer=\"Country\", driver=\"GPKG\",index=\"\")\n",
    "\n",
    "#Mapa de ríos en el mundo\n",
    "Riverslink = \"https://github.com/Ciencia-de-datos-espaciales-2023-2/Evaluacion4_1ra-Parte_Mining_GeoDFs/raw/main/maps/World_Hydrography/World_Hydrography.shp\"\n",
    "Rivers = gpd.read_file(Riverslink)\n",
    "Rivers3415 = Rivers.to_crs(3415)\n",
    "\n",
    "#Recortar los ríos para que solo se encuentren los que encierran a China\n",
    "China3415_Rivers = gpd.clip(gdf = Rivers3415, mask = China3415_country)\n",
    "China3415_Rivers = China3415_Rivers.reset_index()\n",
    "China3415_Rivers.drop(columns=\"index\",inplace=True)\n",
    "China3415_Rivers = China3415_Rivers.rename(columns={\"NAME\":\"River_Name\"})\n",
    "China3415_Rivers = China3415_Rivers.rename(columns={\"NAME\":\"River_Name\", \"SYSTEM\":\"System\"})\n",
    "China3415_Rivers.replace({None:\"None\"}, inplace = True)\n",
    "\n",
    "China3415_Rivers.to_file(os.path.join(\"maps\",\"China_3415\",\"China3415_maps.gpkg\"), layer=\"Rivers\", driver=\"GPKG\",index=\"\")"
   ]
  },
  {
   "cell_type": "markdown",
   "id": "fb3be805",
   "metadata": {},
   "source": [
    "## Ejercicio 3\n",
    "\n",
    "<div class=\"alert-success\">\n",
    "    \n",
    "1. Create a set of points and a set of polygons\n",
    "\n",
    "2. Compute the distance matrix for both sets.\n",
    "\n",
    "3. Select one polygon of the distance matrix, and plot the closests and the farthest point to that polygon.\n",
    "</div>   "
   ]
  },
  {
   "cell_type": "markdown",
   "id": "39d0e499",
   "metadata": {},
   "source": [
    "Conjunto de polígonos: Convex hulls de ríos acorde al sistema al que pertenecen. Los que no forman parte de un sistema de ríos, se han engoblado en un mismo convex hull."
   ]
  },
  {
   "cell_type": "code",
   "execution_count": 113,
   "id": "52b8c390",
   "metadata": {},
   "outputs": [
    {
     "data": {
      "text/plain": [
       "HYC_DESCRI\n",
       "Perennial/Permanent                       40223\n",
       "Non-Perennial/Intermittent/Fluctuating    11209\n",
       "Name: count, dtype: int64"
      ]
     },
     "execution_count": 113,
     "metadata": {},
     "output_type": "execute_result"
    }
   ],
   "source": [
    "China_Rios_Arroyoslink = \"https://github.com/Ciencia-de-datos-espaciales-2023-2/Evaluacion4_1ra-Parte_Mining_GeoDFs/raw/main/maps/China_Hydrography/CHN_water_lines_dcw.shp\"\n",
    "China_Railroads = gpd.read_file(China_Railroadslink)\n",
    "China3415_Railroads = China_Railroads.to_crs(3415)\n",
    "\n",
    "China3415_Railroads\n",
    "#China3415_Lakes = gpd.clip(gdf = Lakes3415, mask = China3415_country)\n",
    "#China3415_Lakes"
   ]
  },
  {
   "cell_type": "code",
   "execution_count": 114,
   "id": "b95d5aa8",
   "metadata": {},
   "outputs": [
    {
     "data": {
      "text/html": [
       "<div>\n",
       "<style scoped>\n",
       "    .dataframe tbody tr th:only-of-type {\n",
       "        vertical-align: middle;\n",
       "    }\n",
       "\n",
       "    .dataframe tbody tr th {\n",
       "        vertical-align: top;\n",
       "    }\n",
       "\n",
       "    .dataframe thead th {\n",
       "        text-align: right;\n",
       "    }\n",
       "</style>\n",
       "<table border=\"1\" class=\"dataframe\">\n",
       "  <thead>\n",
       "    <tr style=\"text-align: right;\">\n",
       "      <th></th>\n",
       "      <th>F_CODE_DES</th>\n",
       "      <th>HYC_DESCRI</th>\n",
       "      <th>NAM</th>\n",
       "      <th>ISO</th>\n",
       "      <th>NAME_0</th>\n",
       "      <th>geometry</th>\n",
       "    </tr>\n",
       "  </thead>\n",
       "  <tbody>\n",
       "    <tr>\n",
       "      <th>0</th>\n",
       "      <td>River/Stream</td>\n",
       "      <td>Perennial/Permanent</td>\n",
       "      <td>UNK</td>\n",
       "      <td>CHN</td>\n",
       "      <td>China</td>\n",
       "      <td>LINESTRING (-1878374.535 3827862.360, -1878844...</td>\n",
       "    </tr>\n",
       "    <tr>\n",
       "      <th>1</th>\n",
       "      <td>River/Stream</td>\n",
       "      <td>Perennial/Permanent</td>\n",
       "      <td>UNK</td>\n",
       "      <td>CHN</td>\n",
       "      <td>China</td>\n",
       "      <td>LINESTRING (-1879932.387 3827482.277, -1880821...</td>\n",
       "    </tr>\n",
       "    <tr>\n",
       "      <th>2</th>\n",
       "      <td>River/Stream</td>\n",
       "      <td>Perennial/Permanent</td>\n",
       "      <td>UNK</td>\n",
       "      <td>CHN</td>\n",
       "      <td>China</td>\n",
       "      <td>LINESTRING (-1880821.221 3828258.916, -1881522...</td>\n",
       "    </tr>\n",
       "    <tr>\n",
       "      <th>3</th>\n",
       "      <td>River/Stream</td>\n",
       "      <td>Perennial/Permanent</td>\n",
       "      <td>UNK</td>\n",
       "      <td>CHN</td>\n",
       "      <td>China</td>\n",
       "      <td>LINESTRING (-1882744.882 3826479.784, -1882346...</td>\n",
       "    </tr>\n",
       "    <tr>\n",
       "      <th>4</th>\n",
       "      <td>River/Stream</td>\n",
       "      <td>Perennial/Permanent</td>\n",
       "      <td>ERTIX HE</td>\n",
       "      <td>CHN</td>\n",
       "      <td>China</td>\n",
       "      <td>LINESTRING (-1806513.156 3796172.219, -1806148...</td>\n",
       "    </tr>\n",
       "    <tr>\n",
       "      <th>...</th>\n",
       "      <td>...</td>\n",
       "      <td>...</td>\n",
       "      <td>...</td>\n",
       "      <td>...</td>\n",
       "      <td>...</td>\n",
       "      <td>...</td>\n",
       "    </tr>\n",
       "    <tr>\n",
       "      <th>51427</th>\n",
       "      <td>River/Stream</td>\n",
       "      <td>Perennial/Permanent</td>\n",
       "      <td>UNK</td>\n",
       "      <td>CHN</td>\n",
       "      <td>China</td>\n",
       "      <td>LINESTRING (-2438778.122 3293683.567, -2438778...</td>\n",
       "    </tr>\n",
       "    <tr>\n",
       "      <th>51428</th>\n",
       "      <td>River/Stream</td>\n",
       "      <td>Perennial/Permanent</td>\n",
       "      <td>UNK</td>\n",
       "      <td>CHN</td>\n",
       "      <td>China</td>\n",
       "      <td>LINESTRING (-2444420.972 3291433.375, -2444420...</td>\n",
       "    </tr>\n",
       "    <tr>\n",
       "      <th>51429</th>\n",
       "      <td>River/Stream</td>\n",
       "      <td>Perennial/Permanent</td>\n",
       "      <td>BAYANKOL</td>\n",
       "      <td>CHN</td>\n",
       "      <td>China</td>\n",
       "      <td>MULTILINESTRING ((-2453998.290 3293480.239, -2...</td>\n",
       "    </tr>\n",
       "    <tr>\n",
       "      <th>51430</th>\n",
       "      <td>River/Stream</td>\n",
       "      <td>Perennial/Permanent</td>\n",
       "      <td>UNK</td>\n",
       "      <td>CHN</td>\n",
       "      <td>China</td>\n",
       "      <td>LINESTRING (2005362.026 3220876.644, 2005361.9...</td>\n",
       "    </tr>\n",
       "    <tr>\n",
       "      <th>51431</th>\n",
       "      <td>River/Stream</td>\n",
       "      <td>Perennial/Permanent</td>\n",
       "      <td>UNK</td>\n",
       "      <td>CHN</td>\n",
       "      <td>China</td>\n",
       "      <td>MULTILINESTRING ((2005843.566 3148135.263, 200...</td>\n",
       "    </tr>\n",
       "  </tbody>\n",
       "</table>\n",
       "<p>51432 rows × 6 columns</p>\n",
       "</div>"
      ],
      "text/plain": [
       "         F_CODE_DES           HYC_DESCRI       NAM  ISO NAME_0  \\\n",
       "0      River/Stream  Perennial/Permanent       UNK  CHN  China   \n",
       "1      River/Stream  Perennial/Permanent       UNK  CHN  China   \n",
       "2      River/Stream  Perennial/Permanent       UNK  CHN  China   \n",
       "3      River/Stream  Perennial/Permanent       UNK  CHN  China   \n",
       "4      River/Stream  Perennial/Permanent  ERTIX HE  CHN  China   \n",
       "...             ...                  ...       ...  ...    ...   \n",
       "51427  River/Stream  Perennial/Permanent       UNK  CHN  China   \n",
       "51428  River/Stream  Perennial/Permanent       UNK  CHN  China   \n",
       "51429  River/Stream  Perennial/Permanent  BAYANKOL  CHN  China   \n",
       "51430  River/Stream  Perennial/Permanent       UNK  CHN  China   \n",
       "51431  River/Stream  Perennial/Permanent       UNK  CHN  China   \n",
       "\n",
       "                                                geometry  \n",
       "0      LINESTRING (-1878374.535 3827862.360, -1878844...  \n",
       "1      LINESTRING (-1879932.387 3827482.277, -1880821...  \n",
       "2      LINESTRING (-1880821.221 3828258.916, -1881522...  \n",
       "3      LINESTRING (-1882744.882 3826479.784, -1882346...  \n",
       "4      LINESTRING (-1806513.156 3796172.219, -1806148...  \n",
       "...                                                  ...  \n",
       "51427  LINESTRING (-2438778.122 3293683.567, -2438778...  \n",
       "51428  LINESTRING (-2444420.972 3291433.375, -2444420...  \n",
       "51429  MULTILINESTRING ((-2453998.290 3293480.239, -2...  \n",
       "51430  LINESTRING (2005362.026 3220876.644, 2005361.9...  \n",
       "51431  MULTILINESTRING ((2005843.566 3148135.263, 200...  \n",
       "\n",
       "[51432 rows x 6 columns]"
      ]
     },
     "execution_count": 114,
     "metadata": {},
     "output_type": "execute_result"
    }
   ],
   "source": [
    "China3415_Railroads"
   ]
  },
  {
   "cell_type": "code",
   "execution_count": 11,
   "id": "51bb506f",
   "metadata": {},
   "outputs": [],
   "source": [
    "#GeoDataFrame, agrupando por ríos\n",
    "China3415_RiverSystems = China3415_MajorRivers.dissolve(by=\"System\")\n",
    "China3415_RiverSystems = China3415_RiverSystems.drop(columns = [\"River_Name\",\"MILES\",\"KILOMETERS\"])\n",
    "China3415_RiverSystems = China3415_RiverSystems.reset_index()\n",
    "China3415_RiverSystems.to_file(os.path.join(\"maps\",\"China3415\",\"China3415_Maps.gpkg\"), layer='RiverSystems', driver=\"GPKG\",index=\"\")\n",
    "\n",
    "#Convertir a convex hull y luego a un GeoDataFrame con polígonos\n",
    "China3415_RiverSystems_hulls = China3415_RiverSystems.convex_hull.to_frame()\n",
    "China3415_RiverSystems_hulls.rename(columns = {0:\"geometry\"}, inplace = True)\n",
    "China3415_RiverSystems_hulls = China3415_RiverSystems_hulls.set_geometry(\"geometry\")\n",
    "China3415_RiverSystems_hulls = China3415_RiverSystems.reset_index()\n",
    "China3415_RiverSystems_hulls\n",
    "\n",
    "China3415_RiverSystems_hulls.to_file(os.path.join(\"maps\",\"China3415\",\"China3415_Maps.gpkg\"), layer='RiverSystems_hulls', driver=\"GPKG\",index=\"\")"
   ]
  },
  {
   "cell_type": "markdown",
   "id": "f30ee4d6",
   "metadata": {},
   "source": [
    "Conjunto de puntos: Plantas de energía nuclear en China"
   ]
  },
  {
   "cell_type": "markdown",
   "id": "9580d337",
   "metadata": {},
   "source": [
    "## Ejercicio 4\n",
    "\n",
    "<div class=\"alert-success\">\n",
    "    \n",
    "1. Create a set of points and a set of lines\n",
    "\n",
    "2. Get the buffer for the lines, select different values for the distance. Jugar con varias distancias, pero solo colocar una que tenga resultados interesantes en el notebook final.\n",
    "\n",
    "3. Keep the points that are within the buffer (as in point 2, you need to play with differn distances until you show something interesting. Todos los puntos que están dentro del buffer creado para la línea.\n",
    "   \n",
    "\n",
    "</div>   "
   ]
  },
  {
   "cell_type": "markdown",
   "id": "e1b10ec1",
   "metadata": {},
   "source": [
    "- Set de puntos: China3415_NuclearPowerPlants\n",
    "- Set de líneas: China3415_RiverSystems"
   ]
  }
 ],
 "metadata": {
  "kernelspec": {
   "display_name": "Python 3 (ipykernel)",
   "language": "python",
   "name": "python3"
  },
  "language_info": {
   "codemirror_mode": {
    "name": "ipython",
    "version": 3
   },
   "file_extension": ".py",
   "mimetype": "text/x-python",
   "name": "python",
   "nbconvert_exporter": "python",
   "pygments_lexer": "ipython3",
   "version": "3.11.5"
  }
 },
 "nbformat": 4,
 "nbformat_minor": 5
}
