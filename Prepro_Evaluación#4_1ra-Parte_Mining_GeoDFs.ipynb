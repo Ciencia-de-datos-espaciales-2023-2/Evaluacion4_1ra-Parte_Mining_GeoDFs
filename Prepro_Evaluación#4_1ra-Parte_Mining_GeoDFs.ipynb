{
 "cells": [
  {
   "cell_type": "markdown",
   "id": "ec4a2552",
   "metadata": {},
   "source": [
    "# Preprocesamiento de datos\n",
    "\n",
    "## Ejercicios: Parte I\n",
    "\n",
    "<div class=\"alert-warning\">\n",
    "    \n",
    "Indicaciones: Los ejercicios 1, 2, 3 y 4 deben leer su data de links en Github y el código y los resultados deben ser publicados en páginas en Github.\n",
    "\n",
    "</div>"
   ]
  },
  {
   "cell_type": "markdown",
   "id": "d4226891",
   "metadata": {},
   "source": [
    "## Ejercicio 1\n",
    "\n",
    "<div class=\"alert-success\">\n",
    "    \n",
    "1. Use two maps of points.\n",
    "\n",
    "2. Compute the distance matrix for both maps.\n",
    "\n",
    "3. Select one row of the distance matrix, and plot the two points with the minimal distance on top of the country of your choosing. (distancia entre punto a punto)\n",
    "</div>"
   ]
  },
  {
   "cell_type": "markdown",
   "id": "c4efa971",
   "metadata": {},
   "source": [
    "Mapas de puntos: Plantas de energía solar y eólica en China\n",
    "\n",
    "Fuente: [Global Power Plant Database](https://datasets.wri.org/dataset/globalpowerplantdatabase)"
   ]
  },
  {
   "cell_type": "code",
   "execution_count": 52,
   "id": "9c793ae3",
   "metadata": {},
   "outputs": [],
   "source": [
    "import pandas as pd\n",
    "import geopandas as gpd\n",
    "import os\n",
    "\n",
    "PowerPlants = pd.read_csv(\"https://github.com/Ciencia-de-datos-espaciales-2023-2/Evaluacion4_1ra-Parte_Mining_GeoDFs/raw/main/data/global_power_plant_database.csv\", dtype={'other_fuel3': 'object'})\n",
    "\n",
    "China_PowerPlants = PowerPlants[PowerPlants[\"country\"]==\"CHN\"]\n",
    "China_PowerPlants = China_PowerPlants.loc[:,[\"name\",\"gppd_idnr\",\"capacity_mw\",\"latitude\",\"longitude\",\"primary_fuel\"]]\n",
    "China_PowerPlants.reset_index(drop=True, inplace=True)\n",
    "\n",
    "#Dataframe a GeoDataframe:\n",
    "China_PowerPlants_gpd = gpd.GeoDataFrame(data=China_PowerPlants.copy(),\n",
    "                                        geometry=gpd.points_from_xy(x=China_PowerPlants.longitude,\n",
    "                                        y=China_PowerPlants.latitude),\n",
    "                                        crs=4326)\n",
    "\n",
    "#Cambiando los CRSs por unos proyectados y que coincidan con los de China3415:\n",
    "China3415_PowerPlants = China_PowerPlants_gpd.to_crs(3415)\n",
    "\n",
    "#Mapas de puntos: Plantas de energía solar y eólica\n",
    "China3415_SolarPowerPlants = China3415_PowerPlants[China3415_PowerPlants.primary_fuel==\"Solar\"]\n",
    "China3415_SolarPowerPlants = China3415_SolarPowerPlants.rename(columns={\"name\":\"SolarPowerPlant_Name\"})\n",
    "China3415_SolarPowerPlants = China3415_SolarPowerPlants.reset_index()\n",
    "China3415_SolarPowerPlants.drop(columns=\"index\",inplace=True)\n",
    "\n",
    "\n",
    "China3415_WindPowerPlants = China3415_PowerPlants[China3415_PowerPlants.primary_fuel==\"Wind\"]\n",
    "China3415_WindPowerPlants = China3415_WindPowerPlants.rename(columns={\"name\":\"WindPowerPlant_Name\"})\n",
    "China3415_WindPowerPlants = China3415_WindPowerPlants.reset_index()\n",
    "China3415_WindPowerPlants.drop(columns=\"index\",inplace=True)\n",
    "\n",
    "\n",
    "# Geopackage con los 2 mapas de puntos:\n",
    "China3415_SolarPowerPlants.to_file(os.path.join(\"maps\",\"China_3415\",\"China3415_Maps.gpkg\"), layer=\"SolarPower_Plants\", driver=\"GPKG\",index=\"\")\n",
    "China3415_WindPowerPlants.to_file(os.path.join(\"maps\",\"China_3415\",\"China3415_Maps.gpkg\"), layer=\"WindPower_Plants\", driver=\"GPKG\",index=\"\")"
   ]
  },
  {
   "cell_type": "markdown",
   "id": "456ed80b",
   "metadata": {},
   "source": [
    "## Ejercicio 2\n",
    "\n",
    "<div class=\"alert-success\">\n",
    "    \n",
    "1. Use a map of points and a map of lines.\n",
    "\n",
    "2. Compute the distance matrix for both maps.\n",
    "\n",
    "3. Select one line of the distance matrix, and plot the closests and the farthest point to that line. (Se puede seleccionar un río o un sistema y calcular el punto más cercano o lejano a la línea. Si se escoge un punto, se calcula la línea más cercana y lejana)\n",
    "    \n",
    "    \n",
    "</div>"
   ]
  },
  {
   "cell_type": "markdown",
   "id": "e8fe95db",
   "metadata": {},
   "source": [
    "Plantas de energía nuclear en China:"
   ]
  },
  {
   "cell_type": "code",
   "execution_count": 53,
   "id": "64902daa",
   "metadata": {},
   "outputs": [],
   "source": [
    "China3415_NuclearPowerPlants = China3415_PowerPlants[China3415_PowerPlants.primary_fuel==\"Nuclear\"]\n",
    "China3415_NuclearPowerPlants = China3415_NuclearPowerPlants.rename(columns={\"name\":\"NuclearPowerPlant_Name\"})\n",
    "China3415_NuclearPowerPlants = China3415_NuclearPowerPlants.reset_index()\n",
    "China3415_NuclearPowerPlants.drop(columns=\"index\",inplace=True)\n",
    "\n",
    "China3415_NuclearPowerPlants.to_file(os.path.join(\"maps\",\"China_3415\",\"China3415_Maps.gpkg\"), layer=\"NuclearPower_Plants\", driver=\"GPKG\",index=\"\")"
   ]
  },
  {
   "cell_type": "markdown",
   "id": "563274a9",
   "metadata": {},
   "source": [
    "- Mapa de China: [World_Countries](https://www.efrainmaps.es/english-version/free-downloads/world/)\n",
    "\n",
    "- Ríos en China: [World_Hydrography](https://www.efrainmaps.es/english-version/free-downloads/world/)"
   ]
  },
  {
   "cell_type": "code",
   "execution_count": 60,
   "id": "fa873f91",
   "metadata": {},
   "outputs": [],
   "source": [
    "#Mapa de China\n",
    "countries = gpd.read_file(\"https://github.com/Ciencia-de-datos-espaciales-2023-2/Evaluacion4_1ra-Parte_Mining_GeoDFs/raw/main/maps/World_Countries/World_Countries.shp\")\n",
    "China = countries[countries.COUNTRY=='China']\n",
    "China3415_country = China.to_crs(3415)\n",
    "China3415_country = China3415_country.reset_index()\n",
    "China3415_country.drop(columns=\"index\",inplace=True)\n",
    "China3415_country.to_file(os.path.join(\"maps\",\"China_3415\",\"China3415_Maps.gpkg\"), layer=\"Country\", driver=\"GPKG\",index=\"\")\n",
    "\n",
    "#Mapa de ríos en el mundo\n",
    "Riverslink = \"https://github.com/Ciencia-de-datos-espaciales-2023-2/Evaluacion4_1ra-Parte_Mining_GeoDFs/raw/main/maps/World_Hydrography/World_Hydrography.shp\"\n",
    "Rivers = gpd.read_file(Riverslink)\n",
    "Rivers3415 = Rivers.to_crs(3415)\n",
    "\n",
    "#Recortar los ríos para que solo se encuentren los que encierran a China\n",
    "China3415_Rivers = gpd.clip(gdf = Rivers3415, mask = China3415_country)\n",
    "China3415_Rivers = China3415_Rivers.reset_index()\n",
    "China3415_Rivers.drop(columns=\"index\",inplace=True)\n",
    "China3415_Rivers = China3415_Rivers.rename(columns={\"NAME\":\"River_Name\"})\n",
    "China3415_Rivers = China3415_Rivers.rename(columns={\"NAME\":\"River_Name\", \"SYSTEM\":\"System\"})\n",
    "China3415_Rivers.replace({None:\"None\"}, inplace = True)\n",
    "\n",
    "China3415_Rivers.to_file(os.path.join(\"maps\",\"China_3415\",\"China3415_Maps.gpkg\"), layer=\"Rivers\", driver=\"GPKG\",index=\"\")"
   ]
  },
  {
   "cell_type": "code",
   "execution_count": 59,
   "id": "e31b640b",
   "metadata": {},
   "outputs": [
    {
     "data": {
      "text/plain": [
       "['SolarPower_Plants', 'WindPower_Plants', 'NuclearPower_Plants']"
      ]
     },
     "execution_count": 59,
     "metadata": {},
     "output_type": "execute_result"
    }
   ],
   "source": [
    "China3415 = \"https://github.com/Ciencia-de-datos-espaciales-2023-2/Evaluacion4_1ra-Parte_Mining_GeoDFs/raw/main/maps/China_3415/China3415_Maps.gpkg\"\n",
    "from fiona import listlayers\n",
    "listlayers(China3415)"
   ]
  },
  {
   "cell_type": "markdown",
   "id": "fb3be805",
   "metadata": {},
   "source": [
    "## Ejercicio 3\n",
    "\n",
    "<div class=\"alert-success\">\n",
    "    \n",
    "1. Create a set of points and a set of polygons\n",
    "\n",
    "2. Compute the distance matrix for both sets.\n",
    "\n",
    "3. Select one polygon of the distance matrix, and plot the closests and the farthest point to that polygon.\n",
    "</div>   "
   ]
  },
  {
   "cell_type": "markdown",
   "id": "39d0e499",
   "metadata": {},
   "source": [
    "Conjunto de polígonos: Convex hulls de ríos acorde al sistema al que pertenecen. Los que no forman parte de un sistema de ríos, se han engoblado en un mismo convex hull."
   ]
  },
  {
   "cell_type": "code",
   "execution_count": 11,
   "id": "51bb506f",
   "metadata": {},
   "outputs": [],
   "source": [
    "#GeoDataFrame, agrupando por ríos\n",
    "China3415_RiverSystems = China3415_MajorRivers.dissolve(by=\"System\")\n",
    "China3415_RiverSystems = China3415_RiverSystems.drop(columns = [\"River_Name\",\"MILES\",\"KILOMETERS\"])\n",
    "China3415_RiverSystems = China3415_RiverSystems.reset_index()\n",
    "China3415_RiverSystems.to_file(os.path.join(\"maps\",\"China3415\",\"China3415_Maps.gpkg\"), layer='RiverSystems', driver=\"GPKG\",index=\"\")\n",
    "\n",
    "#Convertir a convex hull y luego a un GeoDataFrame con polígonos\n",
    "China3415_RiverSystems_hulls = China3415_RiverSystems.convex_hull.to_frame()\n",
    "China3415_RiverSystems_hulls.rename(columns = {0:\"geometry\"}, inplace = True)\n",
    "China3415_RiverSystems_hulls = China3415_RiverSystems_hulls.set_geometry(\"geometry\")\n",
    "China3415_RiverSystems_hulls = China3415_RiverSystems.reset_index()\n",
    "China3415_RiverSystems_hulls\n",
    "\n",
    "China3415_RiverSystems_hulls.to_file(os.path.join(\"maps\",\"China3415\",\"China3415_Maps.gpkg\"), layer='RiverSystems_hulls', driver=\"GPKG\",index=\"\")"
   ]
  },
  {
   "cell_type": "markdown",
   "id": "f30ee4d6",
   "metadata": {},
   "source": [
    "Conjunto de puntos: Plantas de energía nuclear en China"
   ]
  },
  {
   "cell_type": "markdown",
   "id": "9580d337",
   "metadata": {},
   "source": [
    "## Ejercicio 4\n",
    "\n",
    "<div class=\"alert-success\">\n",
    "    \n",
    "1. Create a set of points and a set of lines\n",
    "\n",
    "2. Get the buffer for the lines, select different values for the distance. Jugar con varias distancias, pero solo colocar una que tenga resultados interesantes en el notebook final.\n",
    "\n",
    "3. Keep the points that are within the buffer (as in point 2, you need to play with differn distances until you show something interesting. Todos los puntos que están dentro del buffer creado para la línea.\n",
    "   \n",
    "\n",
    "</div>   "
   ]
  },
  {
   "cell_type": "markdown",
   "id": "e1b10ec1",
   "metadata": {},
   "source": [
    "- Set de puntos: China3415_NuclearPowerPlants\n",
    "- Set de líneas: China3415_RiverSystems"
   ]
  }
 ],
 "metadata": {
  "kernelspec": {
   "display_name": "Python 3 (ipykernel)",
   "language": "python",
   "name": "python3"
  },
  "language_info": {
   "codemirror_mode": {
    "name": "ipython",
    "version": 3
   },
   "file_extension": ".py",
   "mimetype": "text/x-python",
   "name": "python",
   "nbconvert_exporter": "python",
   "pygments_lexer": "ipython3",
   "version": "3.11.5"
  }
 },
 "nbformat": 4,
 "nbformat_minor": 5
}
