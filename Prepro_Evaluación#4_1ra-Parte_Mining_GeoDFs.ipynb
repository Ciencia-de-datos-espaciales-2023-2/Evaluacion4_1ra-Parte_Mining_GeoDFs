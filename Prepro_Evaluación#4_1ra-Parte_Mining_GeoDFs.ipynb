{
 "cells": [
  {
   "cell_type": "markdown",
   "id": "ec4a2552",
   "metadata": {},
   "source": [
    "# Preprocesamiento de datos\n",
    "\n",
    "## Ejercicios: Parte I\n",
    "\n",
    "<div class=\"alert-warning\">\n",
    "    \n",
    "Indicaciones: Los ejercicios 1, 2, 3 y 4 deben leer su data de links en Github y el código y los resultados deben ser publicados en páginas en Github.\n",
    "\n",
    "</div>"
   ]
  },
  {
   "cell_type": "markdown",
   "id": "d4226891",
   "metadata": {},
   "source": [
    "## Ejercicio 1: Preprocesamiento de mapas de plantas de energía solar y eólica en China\n",
    "\n",
    "<div class=\"alert-success\">\n",
    "    \n",
    "1. Use two maps of points.\n",
    "\n",
    "2. Compute the distance matrix for both maps.\n",
    "\n",
    "3. Select one row of the distance matrix, and plot the two points with the minimal distance on top of the country of your choosing. (distancia entre punto a punto)\n",
    "</div>"
   ]
  },
  {
   "cell_type": "markdown",
   "id": "c4efa971",
   "metadata": {},
   "source": [
    "Mapas de puntos: Plantas de energía solar y eólica en China\n",
    "\n",
    "Fuente: [Global Power Plant Database](https://datasets.wri.org/dataset/globalpowerplantdatabase)"
   ]
  },
  {
   "cell_type": "code",
   "execution_count": 187,
   "id": "9c793ae3",
   "metadata": {},
   "outputs": [],
   "source": [
    "import pandas as pd\n",
    "import geopandas as gpd\n",
    "import os\n",
    "\n",
    "PowerPlants = pd.read_csv(\"https://github.com/Ciencia-de-datos-espaciales-2023-2/Evaluacion4_1ra-Parte_Mining_GeoDFs/raw/main/data/global_power_plant_database.csv\", dtype={'other_fuel3': 'object'})\n",
    "\n",
    "China_PowerPlants = PowerPlants[PowerPlants[\"country\"]==\"CHN\"]\n",
    "China_PowerPlants = China_PowerPlants.loc[:,[\"name\",\"gppd_idnr\",\"capacity_mw\",\"latitude\",\"longitude\",\"primary_fuel\"]]\n",
    "China_PowerPlants.reset_index(drop=True, inplace=True)\n",
    "\n",
    "#Dataframe a GeoDataframe:\n",
    "China_PowerPlants_gpd = gpd.GeoDataFrame(data=China_PowerPlants.copy(),\n",
    "                                        geometry=gpd.points_from_xy(x=China_PowerPlants.longitude,\n",
    "                                        y=China_PowerPlants.latitude),\n",
    "                                        crs=4326)\n",
    "\n",
    "#Cambiando los CRSs por unos proyectados y que coincidan con los de China3415:\n",
    "China3415_PowerPlants = China_PowerPlants_gpd.to_crs(3415)\n",
    "\n",
    "#Mapas de puntos: Plantas de energía solar y eólica\n",
    "China3415_SolarPowerPlants = China3415_PowerPlants[China3415_PowerPlants.primary_fuel==\"Solar\"]\n",
    "China3415_SolarPowerPlants = China3415_SolarPowerPlants.rename(columns={\"name\":\"SolarPowerPlant_Name\"})\n",
    "China3415_SolarPowerPlants = China3415_SolarPowerPlants.reset_index()\n",
    "China3415_SolarPowerPlants.drop(columns=\"index\",inplace=True)\n",
    "\n",
    "\n",
    "China3415_WindPowerPlants = China3415_PowerPlants[China3415_PowerPlants.primary_fuel==\"Wind\"]\n",
    "China3415_WindPowerPlants = China3415_WindPowerPlants.rename(columns={\"name\":\"WindPowerPlant_Name\"})\n",
    "China3415_WindPowerPlants = China3415_WindPowerPlants.reset_index()\n",
    "China3415_WindPowerPlants.drop(columns=\"index\",inplace=True)\n",
    "\n",
    "\n",
    "# Geopackage con los 2 mapas de puntos:\n",
    "China3415_SolarPowerPlants.to_file(os.path.join(\"maps\",\"China_3415\",\"China3415_PowerPlant.gpkg\"), layer=\"Solar\", driver=\"GPKG\",index=\"\")\n",
    "China3415_WindPowerPlants.to_file(os.path.join(\"maps\",\"China_3415\",\"China3415_PowerPlant.gpkg\"), layer=\"Wind\", driver=\"GPKG\",index=\"\")"
   ]
  },
  {
   "cell_type": "markdown",
   "id": "456ed80b",
   "metadata": {},
   "source": [
    " ## Ejercicio 2: Preprocesamiento de mapas de plantas de energía nuclear y de arroyos en China\n",
    "\n",
    "<div class=\"alert-success\">\n",
    "    \n",
    "1. Use a map of points and a map of lines.\n",
    "\n",
    "2. Compute the distance matrix for both maps.\n",
    "\n",
    "3. Select one line of the distance matrix, and plot the closests and the farthest point to that line. (Se puede seleccionar un río o un sistema y calcular el punto más cercano o lejano a la línea. Si se escoge un punto, se calcula la línea más cercana y lejana)\n",
    "    \n",
    "    \n",
    "</div>"
   ]
  },
  {
   "cell_type": "markdown",
   "id": "e8fe95db",
   "metadata": {},
   "source": [
    "Plantas de energía nuclear en China:"
   ]
  },
  {
   "cell_type": "code",
   "execution_count": 188,
   "id": "64902daa",
   "metadata": {},
   "outputs": [],
   "source": [
    "China3415_NuclearPowerPlants = China3415_PowerPlants[China3415_PowerPlants.primary_fuel==\"Nuclear\"]\n",
    "China3415_NuclearPowerPlants = China3415_NuclearPowerPlants.rename(columns={\"name\":\"NuclearPowerPlant_Name\"})\n",
    "China3415_NuclearPowerPlants = China3415_NuclearPowerPlants.reset_index()\n",
    "China3415_NuclearPowerPlants.drop(columns=\"index\",inplace=True)\n",
    "\n",
    "China3415_NuclearPowerPlants.to_file(os.path.join(\"maps\",\"China_3415\",\"China3415_PowerPlant.gpkg\"), layer=\"Nuclear\", driver=\"GPKG\",index=\"\")"
   ]
  },
  {
   "cell_type": "markdown",
   "id": "563274a9",
   "metadata": {},
   "source": [
    "Mapa de China: [World_Countries](https://www.efrainmaps.es/english-version/free-downloads/world/)"
   ]
  },
  {
   "cell_type": "code",
   "execution_count": 183,
   "id": "b016510e",
   "metadata": {},
   "outputs": [],
   "source": [
    "#Mapa de China\n",
    "countries = gpd.read_file(\"https://github.com/Ciencia-de-datos-espaciales-2023-2/Evaluacion4_1ra-Parte_Mining_GeoDFs/raw/main/maps/World_Countries/World_Countries.shp\")\n",
    "China = countries[countries.COUNTRY=='China']\n",
    "China3415_country = China.to_crs(3415)\n",
    "China3415_country = China3415_country.reset_index()\n",
    "China3415_country.drop(columns=\"index\",inplace=True)\n",
    "China3415_country.to_file(os.path.join(\"maps\",\"China_3415\",\"China3415_GeoMap.gpkg\"), layer=\"Country\", driver=\"GPKG\",index=\"\")"
   ]
  },
  {
   "cell_type": "markdown",
   "id": "9db516d9",
   "metadata": {},
   "source": [
    "Mapa de líneas: Mapas de arroyos al sur y este de Asia, [Stream network dataset](https://data.apps.fao.org/catalog/iso/dc2a5121-0b32-482b-bd9b-64f7a414fa0d)"
   ]
  },
  {
   "cell_type": "code",
   "execution_count": 184,
   "id": "02dbdc1f",
   "metadata": {},
   "outputs": [],
   "source": [
    "#Mapa de arroyos al sureste de Asia\n",
    "AsiaStreamLink= \"https://github.com/Ciencia-de-datos-espaciales-2023-2/Evaluacion4_1ra-Parte_Mining_GeoDFs/raw/main/maps/Asia_Streams/rivers_asia_37331.shp\"\n",
    "AsiaStream = gpd.read_file(AsiaStreamLink)\n",
    "AsiaStream_3415 = AsiaStream.to_crs(3415)\n",
    "\n",
    "#Filtrando los arroyos para solo englobar aquellos dentro de China\n",
    "China3415_Streams = gpd.clip(gdf = AsiaStreams_3415 , mask = China3415_country)\n",
    "China3415_Streams = China3415_Streams.reset_index()\n",
    "China3415_Streams.drop(columns=[\"index\"],inplace=True)\n",
    "\n",
    "byecol = set(China3415_Streams)\n",
    "China3415_Streams[\"Stream_UniqueArcIdentifier/ARCID\"] =China3415_Streams[\"ARCID\"]\n",
    "China3415_Streams[\"Major_Basin\"] =China3415_Streams[\"MAJ_NAME\"]\n",
    "China3415_Streams[\"Sub_Basin\"] =China3415_Streams[\"SUB_NAME\"]\n",
    "byecol = set(China3415_Streams.columns)-{\"Stream_UniqueArcIdentifier_ARCID\",\"Major_Basin\",\"Sub_Basin\",\"geometry\"}\n",
    "\n",
    "China3415_Streams.drop(columns=byecol, inplace=True)\n",
    "China3415_Streams.to_file(os.path.join(\"maps\",\"China_3415\",\"China3415_GeoMap.gpkg\"), layer=\"Streams\", driver=\"GPKG\",index=\"\")"
   ]
  },
  {
   "cell_type": "markdown",
   "id": "fb3be805",
   "metadata": {},
   "source": [
    "## Ejercicios 3 y 4: Preprocesamiento de mapas de ríos agrupados por cuenca principal y convex hulls de ríos en una misma cuenca principal\n",
    "\n",
    "<div class=\"alert-success\">\n",
    "    \n",
    "1. Create a set of points and a set of polygons\n",
    "\n",
    "2. Compute the distance matrix for both sets.\n",
    "\n",
    "3. Select one polygon of the distance matrix, and plot the closests and the farthest point to that polygon.\n",
    "</div>   \n",
    "\n",
    "<div class=\"alert-success\">\n",
    "    \n",
    "1. Create a set of points and a set of lines\n",
    "\n",
    "2. Get the buffer for the lines, select different values for the distance. Jugar con varias distancias, pero solo colocar una que tenga resultados interesantes en el notebook final.\n",
    "\n",
    "3. Keep the points that are within the buffer (as in point 2, you need to play with differn distances until you show something interesting. Todos los puntos que están dentro del buffer creado para la línea.\n",
    "   \n",
    "\n",
    "</div>   "
   ]
  },
  {
   "cell_type": "markdown",
   "id": "39d0e499",
   "metadata": {},
   "source": [
    "Conjunto de líneas para el ejercicio 4: Ríos agrupados por cuenca principal (Major_Basin) "
   ]
  },
  {
   "cell_type": "code",
   "execution_count": 185,
   "id": "b4615dbd",
   "metadata": {},
   "outputs": [],
   "source": [
    "#GeoDataFrame, agrupando los ríos por cuenca principal (Major_Basin)\n",
    "China3415_MajorStreamBasin = China3415_Streams.dissolve(by=\"Major_Basin\")\n",
    "China3415_MajorStreamBasin = China3415_MajorStreamBasin.drop(columns = [\"Stream_UniqueArcIdentifier_ARCID\",\"Sub_Basin\"])\n",
    "China3415_MajorStreamBasin = China3415_MajorStreamBasin.reset_index()\n",
    "\n",
    "China3415_MajorStreamBasin.to_file(os.path.join(\"maps\",\"China_3415\",\"China3415_GeoMaps.gpkg\"), layer=\"MajorStream_Basins\", driver=\"GPKG\",index=\"\")"
   ]
  },
  {
   "cell_type": "markdown",
   "id": "d615caad",
   "metadata": {},
   "source": [
    "Conjunto de polígonos para el ejercicio 3: Convex hulls de ríos agrupados por cuenca principal "
   ]
  },
  {
   "cell_type": "code",
   "execution_count": 186,
   "id": "d43434f9",
   "metadata": {},
   "outputs": [],
   "source": [
    "#Creando convex hulls que engloblen los ríos de cada cuenca principal para obtener un GeoDataFrame con polígonos\n",
    "China3415_MajorRiverBasin_Hulls = China3415_MajorRiverBasin.convex_hull.to_frame()\n",
    "\n",
    "Major_Basins = China3415_MajorRiverBasin.Major_Basin.tolist()\n",
    "China3415_MajorRiverBasin_Hulls[\"Major_Basin\"]= Major_Basins\n",
    "China3415_MajorRiverBasin_Hulls.rename(columns = {0:\"geometry\"}, inplace = True)\n",
    "China3415_MajorRiverBasin_Hulls = China3415_MajorRiverBasin_Hulls.set_geometry(\"geometry\")\n",
    "\n",
    "China3415_MajorRiverBasin_Hulls.to_file(os.path.join(\"maps\",\"China_3415\",\"China3415_GeoMap.gpkg\"), layer=\"MajorRiver_BasinsHulls\", driver=\"GPKG\",index=\"\")"
   ]
  }
 ],
 "metadata": {
  "kernelspec": {
   "display_name": "Python 3 (ipykernel)",
   "language": "python",
   "name": "python3"
  },
  "language_info": {
   "codemirror_mode": {
    "name": "ipython",
    "version": 3
   },
   "file_extension": ".py",
   "mimetype": "text/x-python",
   "name": "python",
   "nbconvert_exporter": "python",
   "pygments_lexer": "ipython3",
   "version": "3.11.5"
  }
 },
 "nbformat": 4,
 "nbformat_minor": 5
}
